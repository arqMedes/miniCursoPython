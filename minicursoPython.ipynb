{
 "cells": [
  {
   "cell_type": "markdown",
   "metadata": {},
   "source": [
    "# Minicurso de Python\n",
    "\n",
    "![](https://encrypted-tbn0.gstatic.com/images?q=tbn%3AANd9GcSBWp1Z6oZXa_5iHiHNzWgaIVsL9Jtblwej3kZUf0QxhCf_HOAk)\n",
    "\n",
    "\n",
    "## Conteúdo\n",
    "\n",
    "### [Ambiente de desenvolvimento Python](http://localhost:8888/notebooks/ambientesPython.ipynb)\n",
    "\n",
    "### [Comandos de Entrada e Saída](http://localhost:8888/notebooks/InputOutput.ipynb)\n",
    "\n",
    "### [Controle de Fluxos](http://localhost:8888/notebooks/fluxo.ipynb)\n",
    "\n",
    "### [Tipos Estruturados Sequenciais](http://localhost:8888/notebooks/sequencias.ipynb)\n",
    "\n",
    "### [Funções](http://localhost:8888/notebooks/funcoes.ipynb)\n",
    "\n",
    "### [Tipos Estruturados Não Sequenciais](http://localhost:8888/notebooks/Conjuntos_Dicionarios.ipynb)\n",
    "\n",
    "### [Arquivos](http://localhost:8888/notebooks/files.ipynb)\n",
    "\n",
    "### [Numpy](http://localhost:8888/notebooks/numpy.ipynb)\n",
    "\n",
    "### [Matplotlib](http://localhost:8888/notebooks/matplotlib.ipynb)\n",
    "\n",
    "\n",
    "\n",
    "![](https://encrypted-tbn0.gstatic.com/images?q=tbn%3AANd9GcTWfT7IRIdZ258SqkBj6Ve0pELoE17pzrzuII2vmN7pof0TNffZ)"
   ]
  },
  {
   "cell_type": "code",
   "execution_count": 2,
   "metadata": {},
   "outputs": [
    {
     "data": {
      "text/plain": [
       "175"
      ]
     },
     "execution_count": 2,
     "metadata": {},
     "output_type": "execute_result"
    }
   ],
   "source": [
    "35*5"
   ]
  },
  {
   "cell_type": "code",
   "execution_count": null,
   "metadata": {},
   "outputs": [],
   "source": []
  }
 ],
 "metadata": {
  "kernelspec": {
   "display_name": "Python 3",
   "language": "python",
   "name": "python3"
  },
  "language_info": {
   "codemirror_mode": {
    "name": "ipython",
    "version": 3
   },
   "file_extension": ".py",
   "mimetype": "text/x-python",
   "name": "python",
   "nbconvert_exporter": "python",
   "pygments_lexer": "ipython3",
   "version": "3.6.5"
  }
 },
 "nbformat": 4,
 "nbformat_minor": 2
}
