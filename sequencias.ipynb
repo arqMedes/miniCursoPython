{
 "cells": [
  {
   "cell_type": "markdown",
   "metadata": {},
   "source": [
    "![](https://encrypted-tbn0.gstatic.com/images?q=tbn%3AANd9GcTyWMReN3L-jp51a_M-c25KmgdrUtS_CaBuqMj7-_pc5ZbJmsXm)\n",
    "\n",
    "![](https://encrypted-tbn0.gstatic.com/images?q=tbn%3AANd9GcQ_EYpw50CnCi8LcKGoFlxeMMSWpQFeiZ9NdyjSXnj7JWVONmLS)"
   ]
  },
  {
   "cell_type": "markdown",
   "metadata": {},
   "source": [
    "# Sequencias\n",
    "\n",
    "1. Strings\n",
    "2. Listas\n",
    "3. Tuplas\n",
    "\n"
   ]
  },
  {
   "cell_type": "markdown",
   "metadata": {},
   "source": [
    "# String\n",
    "\n",
    "![](https://www.ime.usp.br/~pf/algoritmos/aulas/img/string-of-numbersletters.jpg)"
   ]
  },
  {
   "cell_type": "code",
   "execution_count": 4,
   "metadata": {},
   "outputs": [
    {
     "name": "stdout",
     "output_type": "stream",
     "text": [
      "Nome = Arquimedes e \n",
      " Profissão=Engenheiro\n"
     ]
    }
   ],
   "source": [
    "S = 'Arquimedes'\n",
    "T = \"Engenheiro\"\n",
    "print(\"Nome = %s e \\n Profissão=%s\" %(S, T))"
   ]
  },
  {
   "cell_type": "code",
   "execution_count": 2,
   "metadata": {},
   "outputs": [
    {
     "data": {
      "text/plain": [
       "'s'"
      ]
     },
     "execution_count": 2,
     "metadata": {},
     "output_type": "execute_result"
    }
   ],
   "source": [
    "# indexação negativa da string\n",
    "S[-1] # último elemento "
   ]
  },
  {
   "cell_type": "code",
   "execution_count": 5,
   "metadata": {},
   "outputs": [
    {
     "data": {
      "text/plain": [
       "str"
      ]
     },
     "execution_count": 5,
     "metadata": {},
     "output_type": "execute_result"
    }
   ],
   "source": [
    "type(S) # tipo da minha variável"
   ]
  },
  {
   "cell_type": "code",
   "execution_count": 6,
   "metadata": {},
   "outputs": [
    {
     "data": {
      "text/plain": [
       "'h'"
      ]
     },
     "execution_count": 6,
     "metadata": {},
     "output_type": "execute_result"
    }
   ],
   "source": [
    "T[5] # indexação positiva - começa no 0"
   ]
  },
  {
   "cell_type": "code",
   "execution_count": 7,
   "metadata": {},
   "outputs": [
    {
     "data": {
      "text/plain": [
       "10"
      ]
     },
     "execution_count": 7,
     "metadata": {},
     "output_type": "execute_result"
    }
   ],
   "source": [
    "# quantidade de caracter da string --> comprimento\n",
    "len(S)"
   ]
  },
  {
   "cell_type": "code",
   "execution_count": 26,
   "metadata": {},
   "outputs": [
    {
     "name": "stdout",
     "output_type": "stream",
     "text": [
      "Arquimedes Engenheiro\n",
      "Engenheiro2000\n",
      "-|-|-|-|-|-|-|-|-|-|-|-|-|-|-|-|-|-|-|-|-|-|-|-|-|\n",
      "quime\n",
      "quimedes\n",
      "Arquime\n",
      "qiee\n",
      "ARQUIMEDES\n"
     ]
    },
    {
     "data": {
      "text/plain": [
       "1"
      ]
     },
     "execution_count": 26,
     "metadata": {},
     "output_type": "execute_result"
    }
   ],
   "source": [
    "# Manipulação de Strings\n",
    "V = '' # string vazia\n",
    "#id(V)  -> identificador unico\n",
    "# concatenação\n",
    "R = S + \" \" + T\n",
    "print(R)\n",
    "# não pode concatenar tipos que nao sejam todos strings\n",
    "R = T + str(2000) # use o str para transformar em string\n",
    "print(R)\n",
    "# multiplicação de strings\n",
    "linha = \"-|\"*25\n",
    "print(linha)\n",
    "# Fatiamento\n",
    "# fatia entre os indieces inicio(inclusive) e final(exclusive)\n",
    "print(S[2:7]) \n",
    "print(S[2:]) # omissão do final\n",
    "print(S[:7]) # omissão do inicio\n",
    "print(S[2::2]) # o terceiro parametro eh o passo ou incremento\n",
    "print(S.upper())\n"
   ]
  },
  {
   "cell_type": "code",
   "execution_count": 9,
   "metadata": {},
   "outputs": [
    {
     "data": {
      "text/plain": [
       "140201309343024"
      ]
     },
     "execution_count": 9,
     "metadata": {},
     "output_type": "execute_result"
    }
   ],
   "source": [
    "id(S)"
   ]
  },
  {
   "cell_type": "code",
   "execution_count": 23,
   "metadata": {},
   "outputs": [
    {
     "data": {
      "text/plain": [
       "'Aeiou'"
      ]
     },
     "execution_count": 23,
     "metadata": {},
     "output_type": "execute_result"
    }
   ],
   "source": [
    "\"aeiou\".capitalize()"
   ]
  },
  {
   "cell_type": "code",
   "execution_count": 32,
   "metadata": {},
   "outputs": [
    {
     "name": "stdout",
     "output_type": "stream",
     "text": [
      "0\n",
      "2\n"
     ]
    },
    {
     "data": {
      "text/plain": [
       "['35', '28', '55']"
      ]
     },
     "execution_count": 32,
     "metadata": {},
     "output_type": "execute_result"
    }
   ],
   "source": [
    "S = \"Deixa a cidade cabocla morena, deixa a cidade e volta ...\"\n",
    "print(S.count(\"me\")) # encontrar total de ocorrencia\n",
    "print(S.count(\"cidade\"))\n",
    "S.find(\"cidade\") # pesquisa substring retornando a posição\n",
    "S.find(\"cidade\", 9) # nova pesquisa a partir da ultima ocorrencia\n",
    "T = \"35 28 55\" # string com numeros separados por espaço\n",
    "# retorna uma lista de strings separados a partir da substring fornecida\n",
    "T.split(\" \") "
   ]
  },
  {
   "cell_type": "markdown",
   "metadata": {},
   "source": [
    "# LISTAS\n",
    "\n",
    "[Apostila](pdf/listasAp.pdf)"
   ]
  },
  {
   "cell_type": "code",
   "execution_count": 38,
   "metadata": {},
   "outputs": [
    {
     "name": "stdout",
     "output_type": "stream",
     "text": [
      "2,4,6,8,10,"
     ]
    }
   ],
   "source": [
    "L = [] # lista vazia\n",
    "L = range(2, 11, 2) # lista de valores\n",
    "# varrer a lista exibindo cada elemento\n",
    "for x in L:\n",
    "    print(x, end=\",\")"
   ]
  },
  {
   "cell_type": "code",
   "execution_count": 36,
   "metadata": {},
   "outputs": [
    {
     "name": "stdout",
     "output_type": "stream",
     "text": [
      "0 0\n",
      "1 3\n",
      "2 6\n",
      "3 9\n",
      "4 12\n",
      "5 15\n",
      "6 18\n",
      "7 21\n",
      "8 24\n",
      "9 27\n",
      "10 30\n"
     ]
    }
   ],
   "source": [
    "# Tabuada parecida com Ling C\n",
    "N = 3\n",
    "i = 0\n",
    "while i <= 10:\n",
    "    print(i, i*N, sep=\" \")\n",
    "    i += 1\n",
    "    "
   ]
  },
  {
   "cell_type": "code",
   "execution_count": 37,
   "metadata": {},
   "outputs": [
    {
     "name": "stdout",
     "output_type": "stream",
     "text": [
      "0 0\n",
      "1 3\n",
      "2 6\n",
      "3 9\n",
      "4 12\n",
      "5 15\n",
      "6 18\n",
      "7 21\n",
      "8 24\n",
      "9 27\n",
      "10 30\n"
     ]
    }
   ],
   "source": [
    "# Tabuada em Python\n",
    "for i in range(11):\n",
    "    print(i, i*N, sep=\" \")"
   ]
  },
  {
   "cell_type": "code",
   "execution_count": 39,
   "metadata": {},
   "outputs": [
    {
     "data": {
      "text/plain": [
       "5"
      ]
     },
     "execution_count": 39,
     "metadata": {},
     "output_type": "execute_result"
    }
   ],
   "source": [
    "# comprimento da lista\n",
    "len(L)"
   ]
  },
  {
   "cell_type": "code",
   "execution_count": 41,
   "metadata": {},
   "outputs": [
    {
     "data": {
      "text/plain": [
       "3"
      ]
     },
     "execution_count": 41,
     "metadata": {},
     "output_type": "execute_result"
    }
   ],
   "source": [
    "lista = [1, 10, 2, 10, 3, 10, 4, 5, 6] # contar ocorrencias\n",
    "lista.count(10)"
   ]
  },
  {
   "cell_type": "code",
   "execution_count": 42,
   "metadata": {},
   "outputs": [
    {
     "name": "stdout",
     "output_type": "stream",
     "text": [
      "3\n"
     ]
    }
   ],
   "source": [
    "# alternativa fazer varredura própria\n",
    "cont = 0\n",
    "for e in lista:\n",
    "    if e == 10:\n",
    "        cont += 1\n",
    "print(cont)"
   ]
  },
  {
   "cell_type": "code",
   "execution_count": 43,
   "metadata": {},
   "outputs": [],
   "source": [
    "# adicionar elemento no final da lista\n",
    "lista.append(10)"
   ]
  },
  {
   "cell_type": "code",
   "execution_count": 44,
   "metadata": {},
   "outputs": [
    {
     "data": {
      "text/plain": [
       "[1, 10, 2, 10, 3, 10, 4, 5, 6, 10]"
      ]
     },
     "execution_count": 44,
     "metadata": {},
     "output_type": "execute_result"
    }
   ],
   "source": [
    "lista"
   ]
  },
  {
   "cell_type": "code",
   "execution_count": 52,
   "metadata": {},
   "outputs": [
    {
     "name": "stdout",
     "output_type": "stream",
     "text": [
      "[1, 2, 10, 3, 4]\n",
      "[1, 2, 10, 3, 4, 9, 7]\n",
      "[9, 7, 9, 7, 9, 7]\n",
      "['m', 'i', 'n', 'h', 'a', ' ', 't', 'e', 'r', 'r', 'a', ' ', 't', 'e', 'm', ' ', 'p', 'a', 'l', 'm', 'e', 'i', 'r', 'a']\n",
      "['minh', 'terr', 'tem palmeira']\n"
     ]
    }
   ],
   "source": [
    "lista = [1, 2, 3, 4] \n",
    "# deseja inserir um novo elemento elemento na posição 2\n",
    "lista.insert(2, 10)\n",
    "print(lista)\n",
    "# concatenar duas listas\n",
    "listinha = [9, 7]\n",
    "lista = lista + listinha\n",
    "print(lista)\n",
    "listinha = listinha*3\n",
    "print(listinha)\n",
    "# Conversão de String para Lista\n",
    "S = \"minha terra tem palmeira\"\n",
    "L = list(S)\n",
    "print(L)\n",
    "L = S.split(\"a \")\n",
    "print(L)\n"
   ]
  },
  {
   "cell_type": "code",
   "execution_count": 58,
   "metadata": {},
   "outputs": [
    {
     "name": "stdout",
     "output_type": "stream",
     "text": [
      "False True\n",
      "[1, 2, 10, 3, 4, 9, 7]\n",
      "[1, 2, 3, 4, 7, 9, 10]\n"
     ]
    }
   ],
   "source": [
    "# Operador in - pertinencia\n",
    "a = 5 in lista\n",
    "b = 10 in lista\n",
    "print(a, b)\n",
    "print(lista)\n",
    "# ordenada\n",
    "lista.sort()\n",
    "print(lista)"
   ]
  },
  {
   "cell_type": "code",
   "execution_count": 3,
   "metadata": {},
   "outputs": [
    {
     "data": {
      "text/plain": [
       "[0, 2, 4, 6, 8, 10, 12, 14]"
      ]
     },
     "execution_count": 3,
     "metadata": {},
     "output_type": "execute_result"
    }
   ],
   "source": [
    "pares = [x  for x in range(15) if x%2 ==0]\n",
    "pares"
   ]
  },
  {
   "cell_type": "code",
   "execution_count": null,
   "metadata": {},
   "outputs": [],
   "source": []
  }
 ],
 "metadata": {
  "kernelspec": {
   "display_name": "Python 3",
   "language": "python",
   "name": "python3"
  },
  "language_info": {
   "codemirror_mode": {
    "name": "ipython",
    "version": 3
   },
   "file_extension": ".py",
   "mimetype": "text/x-python",
   "name": "python",
   "nbconvert_exporter": "python",
   "pygments_lexer": "ipython3",
   "version": "3.7.1"
  }
 },
 "nbformat": 4,
 "nbformat_minor": 2
}
