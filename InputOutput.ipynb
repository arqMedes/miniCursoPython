{
 "cells": [
  {
   "cell_type": "markdown",
   "metadata": {},
   "source": [
    "\n",
    "![](https://slideplayer.com.br/slide/1758238/7/images/2/Comandos+de+Entrada+e+Sa%C3%ADda.jpg)\n",
    "\n",
    "![](https://encrypted-tbn0.gstatic.com/images?q=tbn%3AANd9GcRwzoiwTY8UJpPH42vTzr2CJe4hvgYJEkdcbpmNynRqtSkyJnf7)\n",
    "\n",
    "![](https://encrypted-tbn0.gstatic.com/images?q=tbn%3AANd9GcSFdWEYuguMX-FVKtN0lhWeFDaX4k9Z84shmk3RYNLz6hxxmktp)\n",
    "\n",
    "![](https://encrypted-tbn0.gstatic.com/images?q=tbn%3AANd9GcSCfulO0BoJJrIZDMNzbpUH7hYkvnpy-Tw-7RLypXj8m2G1BbKv)\n"
   ]
  },
  {
   "cell_type": "markdown",
   "metadata": {},
   "source": [
    "##  Comandos de saída padrão:\n",
    "\n",
    "** print() **\n",
    "\n",
    "Pula para a próxima linha\n",
    "print(expressão)\n",
    "Escreve o resultado da expressão\n",
    "Pula para a próxima linha\n",
    "print(expressão1,…,expressãoN)\n",
    "Escreve o resultado de cada expressão\n",
    "Espaço em branco é escrito entre cada par de expressão\n",
    "Pula para a próxima linha\n",
    "print(expressão,end=término)\n",
    "Escreve o resultado da expressão\n",
    "Ao final, escreve o String de término\n",
    "print(expressão1, …, expressãoN,end=término)\n",
    "Escreve o resultado de cada expressão\n",
    "Espaço em branco é escrito entre cada par de expressão\n",
    "Ao final, escreve o String de término\n",
    "Expressões Formatadas (operador %(…)):\n",
    "Sintaxe da expressão formatada:\n",
    "texto = “…%formato1 … %formatoN…” %(exp1, …, expN)\n",
    "Formatos mais comuns:\n",
    "d (inteiro), f (número com ponto flutuante) e s (String)\n",
    "Exemplos:\n",
    "\n",
    "msg = \" A media dos numeros é %4.2f\" %(8656656.6164134)\n",
    "print(msg)\n",
    "\n",
    "print(\"%f + %f = %4.1f\" %(15, 9.578421, 15+9.578421 ))\n",
    "\n",
    "print(\"%d + %d = %d\" %(5, 7.578421, 5+7.578421 ), end=\"!!!\")\n",
    "Comandos de entrada padrão:\n",
    "input()\n",
    "Comando que aguarda o usuário fornecer um valor expresso por uma sequencia de caracteres\n",
    "Este comando suspende a execução do programa até que o usuário escreva sua entrada e precione enter.\n",
    "input(mensagem)\n",
    "Comando que escreve a expressão mensagem e aguarda o usuário fornecer um valor expresso por uma sequencia de caracteres\n",
    "Este comando suspende a execução do programa até que o usuário escreva sua entrada e precione enter"
   ]
  },
  {
   "cell_type": "markdown",
   "metadata": {},
   "source": [
    "a = int(input(\"Qual a sua idade?\"))\n",
    "a"
   ]
  },
  {
   "cell_type": "code",
   "execution_count": 15,
   "metadata": {},
   "outputs": [
    {
     "data": {
      "text/plain": [
       "0"
      ]
     },
     "execution_count": 15,
     "metadata": {},
     "output_type": "execute_result"
    }
   ],
   "source": [
    "a = 510\n",
    "b = 2\n",
    "a % b"
   ]
  },
  {
   "cell_type": "code",
   "execution_count": 7,
   "metadata": {},
   "outputs": [
    {
     "data": {
      "text/plain": [
       "float"
      ]
     },
     "execution_count": 7,
     "metadata": {},
     "output_type": "execute_result"
    }
   ],
   "source": [
    "type(a)"
   ]
  },
  {
   "cell_type": "code",
   "execution_count": 28,
   "metadata": {},
   "outputs": [
    {
     "name": "stdout",
     "output_type": "stream",
     "text": [
      "z1 = 3.00 + 4.00j \n",
      "z3 =  50j\n",
      "5 + 7 = 12!!!"
     ]
    }
   ],
   "source": [
    "z1 = 3 + 4j\n",
    "z2 = 8 + 6j\n",
    "z3 = z1*z2\n",
    "print(\"z1 = %.2f + %.2fj \" %(z1.real, z1.imag))\n",
    "print('z3 = ', z3)\n",
    "print(\"%i + %i = %i\" %(5, 7.578421, 5+7.578421 ), end=\"!!!\")"
   ]
  }
 ],
 "metadata": {
  "kernelspec": {
   "display_name": "Python 3",
   "language": "python",
   "name": "python3"
  },
  "language_info": {
   "codemirror_mode": {
    "name": "ipython",
    "version": 3
   },
   "file_extension": ".py",
   "mimetype": "text/x-python",
   "name": "python",
   "nbconvert_exporter": "python",
   "pygments_lexer": "ipython3",
   "version": "3.7.1"
  }
 },
 "nbformat": 4,
 "nbformat_minor": 2
}
