{
 "cells": [
  {
   "cell_type": "markdown",
   "metadata": {},
   "source": [
    "# PYTHON\n",
    "\n",
    "Linha de Comando\n",
    "\n",
    "![](img/promptPython.png)\n",
    "\n",
    "https://rpubs.com/gomes555/comandos_python"
   ]
  },
  {
   "cell_type": "markdown",
   "metadata": {},
   "source": [
    "# Ambientes de Desenvolvimento\n",
    "\n",
    "https://python.org.br/ferramentas/\n",
    "\n",
    "## Spyder\n",
    "    \n",
    "![](https://encrypted-tbn0.gstatic.com/images?q=tbn%3AANd9GcQi7RrMe58-2d1449-aWKfU2x1gVeMwADyMhHfjxX075L81mVtI)\n",
    "\n",
    "1. Idle\n",
    "2. Pycharm\n",
    "3. NetBeans\n",
    "4. Eclipse\n",
    "5. Ninja\n",
    "6. Visual Studio\n",
    "\n",
    "## Atom\n",
    "\n",
    "![](https://encrypted-tbn0.gstatic.com/images?q=tbn%3AANd9GcQTezQ0YwnxhhJOXgzVaa0I9vllyyIP3DWgp6IoJxJvUvzA3Oyx)boo\n",
    "\n",
    "## Jupyter Notebook\n",
    "\n",
    "O Projeto Jupyter é uma organização sem fins lucrativos criada para \"desenvolver software de código aberto, padrões abertos e serviços para computação interativa em dezenas de linguagens de programação\". Originado do IPython em 2014, o Projeto Jupyter suporta ambientes de execução em dezenas de linguagens de programação. O nome do projeto é uma referência às três principais linguagens de programação suportadas por Jupyter, Julia, Python e R, e também uma homenagem aos cadernos de anotações de Galileu que registram a descoberta das luas de Júpiter.\n",
    "\n",
    "Um Notebook Jupyter é um ambiente computacional web para a internet rica para criação de documentos para a plataforma Jupyter. O termo \"notebook\" pode, dependendo do contexto, fazer referência a entidades distintas como Jupyter (aplicativo Web), Jupyter Python (servidor Web) ou ao formato de documento para a plataforma. Um documento Jupyter Notebook é estruturado formato JSON, contendo uma lista ordenada de células de entrada / saída que podem conter código, texto (usando Markdown), matemática, gráficos e texto enriquecido, geralmente terminando com a extensão \".ipynb\".\n",
    "\n",
    "Links\n",
    "\n",
    "[Jupyter](https://jupyter.org/)\n",
    "\n",
    "[Colaboratory](https://colab.research.google.com/)\n",
    "    "
   ]
  },
  {
   "cell_type": "code",
   "execution_count": null,
   "metadata": {},
   "outputs": [],
   "source": []
  }
 ],
 "metadata": {
  "kernelspec": {
   "display_name": "Python 3",
   "language": "python",
   "name": "python3"
  },
  "language_info": {
   "codemirror_mode": {
    "name": "ipython",
    "version": 3
   },
   "file_extension": ".py",
   "mimetype": "text/x-python",
   "name": "python",
   "nbconvert_exporter": "python",
   "pygments_lexer": "ipython3",
   "version": "3.7.1"
  }
 },
 "nbformat": 4,
 "nbformat_minor": 2
}
