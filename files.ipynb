{
 "cells": [
  {
   "cell_type": "markdown",
   "metadata": {},
   "source": [
    "# Arquivos\n"
   ]
  },
  {
   "cell_type": "code",
   "execution_count": 2,
   "metadata": {},
   "outputs": [
    {
     "name": "stdout",
     "output_type": "stream",
     "text": [
      "Início do Programa\n",
      "O Elemento 25 está na posição 1\n",
      "O Elemento 317 está na posição 2\n",
      "O Elemento 441 está na posição 3\n",
      "O Elemento 12 está na posição 4\n",
      "O Elemento 73 está na posição 5\n",
      "O Elemento 92 está na posição 6\n",
      "\n",
      "Soma = 960\n",
      "Fim do Programa\n"
     ]
    }
   ],
   "source": [
    "print(\"Início do Programa\")\n",
    "Soma = 0\n",
    "Cont = 0\n",
    "arq = open(\"Inteiros.txt\", \"r\")\n",
    "S = arq.readline() \n",
    "while S != \"\":\n",
    "    N = int(S) # Converte o texto em int\n",
    "    Soma = Soma + N\n",
    "    Cont = Cont + 1\n",
    "    print(\"O Elemento {1} está na posição {0}\".format(Cont, N))\n",
    "    S = arq.readline() \n",
    "arq.close()\n",
    "print(\"\\nSoma = {0}\".format(Soma)) \n",
    "print(\"Fim do Programa\")\n",
    "    "
   ]
  },
  {
   "cell_type": "code",
   "execution_count": 3,
   "metadata": {},
   "outputs": [
    {
     "name": "stdout",
     "output_type": "stream",
     "text": [
      "Início do Programa\n",
      "Elemento 1 = 25\n",
      "Elemento 2 = 317\n",
      "Elemento 3 = 441\n",
      "Elemento 4 = 12\n",
      "Elemento 5 = 73\n",
      "Elemento 6 = 92\n",
      "\n",
      "Soma = 960\n",
      "Fim do Programa\n"
     ]
    }
   ],
   "source": [
    "# solução com iterador de arquivo -->> Pythonic\n",
    "print(\"Início do Programa\")\n",
    "Soma = 0\n",
    "Cont = 0\n",
    "\n",
    "for S in open(\"Inteiros.txt\") : # o parametro r é default\n",
    "    N = int(S) # Converte o texto em int\n",
    "    Soma = Soma + N\n",
    "    Cont = Cont + 1\n",
    "    print(\"Elemento {0} = {1}\".format(Cont, N))\n",
    "\n",
    "print(\"\\nSoma = {0}\".format(Soma)) \n",
    "print(\"Fim do Programa\")"
   ]
  },
  {
   "cell_type": "markdown",
   "metadata": {},
   "source": [
    "# CSV \n",
    "## comma separeted value"
   ]
  },
  {
   "cell_type": "code",
   "execution_count": 4,
   "metadata": {},
   "outputs": [
    {
     "name": "stdout",
     "output_type": "stream",
     "text": [
      "['Comodo', 'Area', 'Per']\n",
      "Comodo\n",
      "Comodo Area Per\n",
      "['Q', '10', '15']\n",
      "Q\n",
      "Q 10 15\n",
      "['S', '15', '20']\n",
      "S\n",
      "S 15 20\n",
      "['C', '12', '15']\n",
      "C\n",
      "C 12 15\n",
      "['B', '8', '9']\n",
      "B\n",
      "B 8 9\n"
     ]
    }
   ],
   "source": [
    "import csv # biblioteca necessária\n",
    "\n",
    "with open('minhaCasa.csv') as arq:\n",
    "    readCSV = csv.reader(arq, delimiter=',')\n",
    "    for row in readCSV:\n",
    "        print(row)\n",
    "        print(row[0])\n",
    "        print(row[0],row[1],row[2],)"
   ]
  },
  {
   "cell_type": "code",
   "execution_count": 8,
   "metadata": {},
   "outputs": [],
   "source": [
    "with open('minhaCasa.csv') as arq:\n",
    "    leitor = csv.DictReader(arq, delimiter = ',')\n",
    "    resultado = {}\n",
    "    for linha in leitor:\n",
    "        k = linha['Comodo']\n",
    "        linha.pop('Comodo')\n",
    "        v = linha\n",
    "\n",
    "        resultado[k] = v\n",
    "            "
   ]
  },
  {
   "cell_type": "code",
   "execution_count": 9,
   "metadata": {},
   "outputs": [
    {
     "data": {
      "text/plain": [
       "{'Q': OrderedDict([('Area', '10'), ('Per', '15')]),\n",
       " 'S': OrderedDict([('Area', '15'), ('Per', '20')]),\n",
       " 'C': OrderedDict([('Area', '12'), ('Per', '15')]),\n",
       " 'B': OrderedDict([('Area', '8'), ('Per', '9')])}"
      ]
     },
     "execution_count": 9,
     "metadata": {},
     "output_type": "execute_result"
    }
   ],
   "source": [
    "resultado"
   ]
  }
 ],
 "metadata": {
  "kernelspec": {
   "display_name": "Python 3",
   "language": "python",
   "name": "python3"
  },
  "language_info": {
   "codemirror_mode": {
    "name": "ipython",
    "version": 3
   },
   "file_extension": ".py",
   "mimetype": "text/x-python",
   "name": "python",
   "nbconvert_exporter": "python",
   "pygments_lexer": "ipython3",
   "version": "3.7.1"
  }
 },
 "nbformat": 4,
 "nbformat_minor": 2
}
