{
 "cells": [
  {
   "cell_type": "markdown",
   "metadata": {},
   "source": [
    "# Arquivos\n"
   ]
  },
  {
   "cell_type": "code",
   "execution_count": 2,
   "metadata": {},
   "outputs": [
    {
     "name": "stdout",
     "output_type": "stream",
     "text": [
      "Início do Programa\n",
      "Elemento 1 = 25\n",
      "Elemento 2 = 317\n",
      "Elemento 3 = 441\n",
      "Elemento 4 = 12\n",
      "Elemento 5 = 73\n",
      "Elemento 6 = 92\n",
      "\n",
      "Soma = 960\n",
      "Fim do Programa\n"
     ]
    }
   ],
   "source": [
    "print(\"Início do Programa\")\n",
    "Soma = 0\n",
    "Cont = 0\n",
    "arq = open(\"Inteiros.txt\", \"r\")\n",
    "S = arq.readline() \n",
    "while S != \"\":\n",
    "    N = int(S) # Converte o texto em int\n",
    "    Soma = Soma + N\n",
    "    Cont = Cont + 1\n",
    "    print(\"Elemento {0} = {1}\".format(Cont, N))\n",
    "    S = arq.readline() \n",
    "arq.close()\n",
    "print(\"\\nSoma = {0}\".format(Soma)) \n",
    "print(\"Fim do Programa\")\n",
    "    "
   ]
  },
  {
   "cell_type": "code",
   "execution_count": 3,
   "metadata": {},
   "outputs": [
    {
     "name": "stdout",
     "output_type": "stream",
     "text": [
      "Início do Programa\n",
      "Elemento 1 = 25\n",
      "Elemento 2 = 317\n",
      "Elemento 3 = 441\n",
      "Elemento 4 = 12\n",
      "Elemento 5 = 73\n",
      "Elemento 6 = 92\n",
      "\n",
      "Soma = 960\n",
      "Fim do Programa\n"
     ]
    }
   ],
   "source": [
    "# solução com iterador de arquivo -->> Pythonic\n",
    "print(\"Início do Programa\")\n",
    "Soma = 0\n",
    "Cont = 0\n",
    "\n",
    "for S in open(\"Inteiros.txt\") : # o parametro r é default\n",
    "    N = int(S) # Converte o texto em int\n",
    "    Soma = Soma + N\n",
    "    Cont = Cont + 1\n",
    "    print(\"Elemento {0} = {1}\".format(Cont, N))\n",
    "\n",
    "print(\"\\nSoma = {0}\".format(Soma)) \n",
    "print(\"Fim do Programa\")"
   ]
  },
  {
   "cell_type": "markdown",
   "metadata": {},
   "source": [
    "## Referência\n",
    "\n",
    "https://docs.python.org/3/tutorial\n",
    "\n",
    "https://rstudio-pubs-static.s3.amazonaws.com/325708_d9b07b07bf2b4bc8803ba6d53d834eeb.html\n",
    "\n",
    "http://cs231n.github.io/python-numpy-tutorial/\n",
    "\n"
   ]
  }
 ],
 "metadata": {
  "kernelspec": {
   "display_name": "Python 3",
   "language": "python",
   "name": "python3"
  },
  "language_info": {
   "codemirror_mode": {
    "name": "ipython",
    "version": 3
   },
   "file_extension": ".py",
   "mimetype": "text/x-python",
   "name": "python",
   "nbconvert_exporter": "python",
   "pygments_lexer": "ipython3",
   "version": "3.7.1"
  }
 },
 "nbformat": 4,
 "nbformat_minor": 2
}
