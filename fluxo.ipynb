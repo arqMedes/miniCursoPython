{
 "cells": [
  {
   "cell_type": "markdown",
   "metadata": {},
   "source": [
    "# Controle de Fluxo\n",
    "\n",
    "![](https://encrypted-tbn0.gstatic.com/images?q=tbn%3AANd9GcSQEV49Z4LU_ZkMqPDanM7HooJu9ysY3Jv7rfK9kqyhzgRKuX24)\n",
    "\n",
    "![](https://encrypted-tbn0.gstatic.com/images?q=tbn%3AANd9GcTBMqJ1sp0AdbekPOHx23aL6V1gzZGgw55gd6B29C0jOvbOaiRh)"
   ]
  },
  {
   "cell_type": "code",
   "execution_count": 2,
   "metadata": {},
   "outputs": [
    {
     "name": "stdout",
     "output_type": "stream",
     "text": [
      "Digite um Número Natural: 555\n",
      "O Nº 555 eh impar\n"
     ]
    }
   ],
   "source": [
    "a = int(input(\"Digite um Número Natural: \"))\n",
    "if a%2 == 0:\n",
    "    print(\"O Nº %d eh par\" %a)\n",
    "else:\n",
    "    print(\"O Nº %d eh impar\" %a)"
   ]
  },
  {
   "cell_type": "code",
   "execution_count": 10,
   "metadata": {},
   "outputs": [
    {
     "name": "stdout",
     "output_type": "stream",
     "text": [
      "Digite a: 5\n",
      "Digite b: 3\n",
      "Digite c: 2\n",
      "5 eh o MAIOR numero \n"
     ]
    }
   ],
   "source": [
    "a = int(input(\"Digite a: \"))\n",
    "b = int(input(\"Digite b: \"))\n",
    "c = int(input(\"Digite c: \"))\n",
    "\n",
    "if not(a > b):\n",
    "    print(\"%d < %d \" %(a, b))\n",
    "elif a > c:\n",
    "    print(\"%i eh o MAIOR numero \" %a)\n",
    "else:\n",
    "    print(\"%d < %d < %d \" %(b, a, c))\n",
    "    "
   ]
  },
  {
   "cell_type": "code",
   "execution_count": 6,
   "metadata": {},
   "outputs": [
    {
     "data": {
      "text/plain": [
       "8"
      ]
     },
     "execution_count": 6,
     "metadata": {},
     "output_type": "execute_result"
    }
   ],
   "source": [
    "max(a, b, c)"
   ]
  },
  {
   "cell_type": "code",
   "execution_count": 7,
   "metadata": {},
   "outputs": [
    {
     "data": {
      "text/plain": [
       "5"
      ]
     },
     "execution_count": 7,
     "metadata": {},
     "output_type": "execute_result"
    }
   ],
   "source": [
    "min(a, b, c)"
   ]
  },
  {
   "cell_type": "code",
   "execution_count": 11,
   "metadata": {},
   "outputs": [
    {
     "name": "stdout",
     "output_type": "stream",
     "text": [
      "5 eh o MAIOR numero \n"
     ]
    }
   ],
   "source": [
    "if (a > b) and (a > c):\n",
    "    print(\"%i eh o MAIOR numero \" %a)\n",
    "elif (b > a)and (b > c):\n",
    "    print(\"%i eh o MAIOR numero \" %b)\n",
    "else:\n",
    "    print(\"%i eh o MAIOR numero \" %c)"
   ]
  },
  {
   "cell_type": "code",
   "execution_count": 13,
   "metadata": {},
   "outputs": [
    {
     "name": "stdout",
     "output_type": "stream",
     "text": [
      "Digite um Número: 65565o\n",
      "Digite um Número: kljhjk\n",
      "Digite um Número: jhhihj\n",
      "Digite um Número: 547\n",
      "Obrigado!!\n"
     ]
    }
   ],
   "source": [
    "a = input(\"Digite um Número: \")\n",
    "while not(a.isnumeric()):\n",
    "    a = input(\"Digite um Número: \")\n",
    "print(\"Obrigado!!\")\n",
    "    "
   ]
  },
  {
   "cell_type": "markdown",
   "metadata": {},
   "source": [
    "# Progressão Aritmética\n",
    "\n",
    "** P.A. = [P, P+R, ... , P + 9R]**"
   ]
  },
  {
   "cell_type": "code",
   "execution_count": 20,
   "metadata": {},
   "outputs": [
    {
     "name": "stdout",
     "output_type": "stream",
     "text": [
      "Digite o Primeiro Termo da P.A. : 5\n",
      "Digite a Razão da P.A. : 2\n",
      "5; 7; 9; 11; 13; 15; 17; 19; 21; 23; "
     ]
    }
   ],
   "source": [
    "P = int(input(\"Digite o Primeiro Termo da P.A. : \"))\n",
    "R = int(input(\"Digite a Razão da P.A. : \"))\n",
    "\n",
    "cont = 0\n",
    "while cont < 10:\n",
    "    print(P + cont*R, end=\"; \")\n",
    "    cont += 1"
   ]
  },
  {
   "cell_type": "code",
   "execution_count": 23,
   "metadata": {},
   "outputs": [
    {
     "name": "stdout",
     "output_type": "stream",
     "text": [
      "range(5, 25, 2)\n"
     ]
    }
   ],
   "source": [
    "L= range(5, 25, 2)\n",
    "print(L)"
   ]
  },
  {
   "cell_type": "markdown",
   "metadata": {},
   "source": [
    "# Fibonacci\n",
    "\n",
    "\n",
    "![](https://www.gestaoeducacional.com.br/wp-content/uploads/2018/12/sequencia-fibonacci.jpg)"
   ]
  },
  {
   "cell_type": "code",
   "execution_count": 4,
   "metadata": {},
   "outputs": [
    {
     "name": "stdout",
     "output_type": "stream",
     "text": [
      "1 1 2 3 5 8 13 21 34 55 89 144 233 377 610 987 1597 2584 4181 6765 "
     ]
    }
   ],
   "source": [
    "p, q = 1, 1 # os dois primeiros termos de Fibonacci\n",
    "N = 20 # Numero de termos da minha sequencia Fibbonacci\n",
    "print(p, end=\" \")\n",
    "print(q, end=\" \")\n",
    "cont = 2\n",
    "while cont < N:\n",
    "    r = p + q\n",
    "    print(r, end=\" \")\n",
    "    p, q = q, r\n",
    "    cont += 1"
   ]
  },
  {
   "cell_type": "code",
   "execution_count": null,
   "metadata": {},
   "outputs": [],
   "source": []
  }
 ],
 "metadata": {
  "kernelspec": {
   "display_name": "Python 3",
   "language": "python",
   "name": "python3"
  },
  "language_info": {
   "codemirror_mode": {
    "name": "ipython",
    "version": 3
   },
   "file_extension": ".py",
   "mimetype": "text/x-python",
   "name": "python",
   "nbconvert_exporter": "python",
   "pygments_lexer": "ipython3",
   "version": "3.7.1"
  }
 },
 "nbformat": 4,
 "nbformat_minor": 2
}
