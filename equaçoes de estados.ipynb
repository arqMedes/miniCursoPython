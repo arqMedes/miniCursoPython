{
 "cells": [
  {
   "cell_type": "markdown",
   "metadata": {},
   "source": [
    "# Formas canônicas para circuitos lineares\n",
    "\n",
    "\n",
    "O conjunto de equações que descreve um circuito dinâmico linear invariante no tempo (exceto pelas fontes)\n",
    "sempre pode ser colocado na forma de um conjunto de equações algébricas e um sistema de equações\n",
    "diferenciais lineares ordinárias de primeira ordem do tipo\n",
    "x \u0001 ( t ) = Ax ( t ) + u ( t ) ou x \u0001 ( t ) = Ax ( t ) + Bu fontes ( t )\n",
    "Essa forma é chamada de equação de estado ou forma de estado. O vetor x tem dimensão igual à ordem do\n",
    "circuito e é chamado vetor de estado ou simplesmente estado. A qualquer tempo todas as variáveis do\n",
    "circuito são combinações lineares das componentes de x e u (ou de x e u fontes ).\n",
    "Na primeira expressão, o vetor u(t) incorpora a contribuição das fontes independentes. Na segunda\n",
    "expressão, Bu fontes (t) incorpora a contribuição das fontes independentes, das quais as componentes do vetor\n",
    "u fontes (t) são os valores de correntes e tensões fornecidas pelas fontes independentes (como função do tempo).\n",
    "Uma outra forma de representação é uma equação diferencial da ordem do circuito, na forma:\n",
    "y ( n ) ( t ) + a n − 1 y ( n − 1) ( t ) + ... + a 1 y (1) ( t ) + a 0 y ( t ) = f ( t )\n",
    "(6.4)\n",
    "onde o termo forçante f(t) incorpora a contribuição das fontes independentes.\n",
    "No caso particular de circuitos lineares de segunda ordem, a equação (6.4) pode ser escrita como:\n",
    "\u0001\u0001\n",
    "y ( t ) + 2 α y \u0001 ( t ) + β y ( t ) = f ( t ) .\n",
    "Os parâmetros α e β são muito convenientes para estudo e caracterização do comportamento destes circuitos,\n",
    "como será visto mais adiante."
   ]
  },
  {
   "cell_type": "markdown",
   "metadata": {},
   "source": [
    "## Resistor, Capacitor e Indutor lineares (convenção de receptor)\n",
    "\n",
    "$$ v_R = Ri_R $$\n",
    "\n",
    "$$i_C = C\\frac{dv_C}{dt}$$\n",
    "\n",
    "$$v_L = L\\frac{di_L}{dt}$$\n",
    "\n",
    "## Fontes de Tensão e de Corrente (convenção de gerador):\n",
    "\n",
    "$$ v = u_v(t)$$\n",
    "\n",
    "$$ i = u_i(t)$$\n",
    "\n",
    "### Sistemática para Obtenção de Equações de Estado\n",
    "\n",
    "Grafo Conexo: Grafo no qual existe sempre um caminho constituı́do por ramos\n",
    "entre dois nós quaisquer\n",
    "\n",
    "Subgrafo: conjunto qualquer de ramos e nós de um grafo\n",
    "Corte: conjuntos de ramos que, eliminados, deixam dois subgrafos conexos\n",
    "\n",
    "Laço: caminho fechado formado por ramos e não passando mais de uma vez por\n",
    "nenhum nó\n",
    "\n",
    "Árvore: subgrafo conexo contendo todos os nós do grafo e nenhum laço.\n",
    "Escolhida uma árvore para um grafo, os demais ramos (não pertencentes à árvore)\n",
    "são chamados de ramos de ligação\n",
    "\n",
    "Corte Fundamental: constituı́do por um único ramo da árvore e ramos de\n",
    "ligação\n",
    "\n",
    "Laço Fundamental: constituı́do por um único ramo de ligação e ramos da\n",
    "árvore\n",
    "\n",
    "![](img/estadosC1.png)\n",
    "\n",
    "![](img/arvoreC2.png)"
   ]
  },
  {
   "cell_type": "code",
   "execution_count": null,
   "metadata": {},
   "outputs": [],
   "source": []
  },
  {
   "cell_type": "markdown",
   "metadata": {},
   "source": [
    "## Referências\n",
    "\n",
    "Kienitz, Karl Heinz\n",
    "Análise de circuitos: um enfoque de sistemas / Karl Heinz Kienitz – 2.ed. – São José dos Campos: Instituto\n",
    "Tecnológico de Aeronáutica, 2010.\n",
    "ISBN 978-85-87978-17-2\n",
    "\n",
    "\n",
    "Teoria de Sistemas Lineares – Aula 4 UFMG Reinaldo M. Palhares"
   ]
  },
  {
   "cell_type": "code",
   "execution_count": null,
   "metadata": {},
   "outputs": [],
   "source": [
    "estudar a partir da página 79"
   ]
  }
 ],
 "metadata": {
  "kernelspec": {
   "display_name": "Python 3",
   "language": "python",
   "name": "python3"
  },
  "language_info": {
   "codemirror_mode": {
    "name": "ipython",
    "version": 3
   },
   "file_extension": ".py",
   "mimetype": "text/x-python",
   "name": "python",
   "nbconvert_exporter": "python",
   "pygments_lexer": "ipython3",
   "version": "3.7.1"
  }
 },
 "nbformat": 4,
 "nbformat_minor": 2
}
