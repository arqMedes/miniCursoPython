{
 "cells": [
  {
   "cell_type": "markdown",
   "metadata": {},
   "source": [
    "# Funções definidas pelo usuário\n",
    "\n",
    "def nomeFuncao(argumentos):\n",
    "\n",
    "    codigos\n",
    "    \n",
    "    return <tipo>\n",
    "    "
   ]
  },
  {
   "cell_type": "code",
   "execution_count": 12,
   "metadata": {},
   "outputs": [],
   "source": [
    "def Rserie(*R):\n",
    "    Req = 0.\n",
    "    for r in R:\n",
    "        Req += r\n",
    "    return Req"
   ]
  },
  {
   "cell_type": "code",
   "execution_count": 13,
   "metadata": {},
   "outputs": [
    {
     "data": {
      "text/plain": [
       "100.0"
      ]
     },
     "execution_count": 13,
     "metadata": {},
     "output_type": "execute_result"
    }
   ],
   "source": [
    "Rserie(10, 20, 5, 15, 50)"
   ]
  },
  {
   "cell_type": "code",
   "execution_count": 4,
   "metadata": {},
   "outputs": [
    {
     "data": {
      "text/plain": [
       "0.0"
      ]
     },
     "execution_count": 4,
     "metadata": {},
     "output_type": "execute_result"
    }
   ],
   "source": [
    "Rserie()"
   ]
  },
  {
   "cell_type": "code",
   "execution_count": null,
   "metadata": {},
   "outputs": [],
   "source": [
    "def Rparalelo(*R):\n",
    "    Req = 0.\n",
    "    for r in R:\n",
    "        Req += r\n",
    "    return Req"
   ]
  },
  {
   "cell_type": "code",
   "execution_count": 2,
   "metadata": {},
   "outputs": [],
   "source": [
    "# Recursividade quando uma função chama a si mesma\n",
    "def fatorial(N):\n",
    "    if N == 1: # até que uma condição de parada seja satisfeita\n",
    "        return 1\n",
    "    return N*fatorial(N-1)"
   ]
  },
  {
   "cell_type": "code",
   "execution_count": 5,
   "metadata": {},
   "outputs": [
    {
     "data": {
      "text/plain": [
       "265252859812191058636308480000000"
      ]
     },
     "execution_count": 5,
     "metadata": {},
     "output_type": "execute_result"
    }
   ],
   "source": [
    "fatorial(30)"
   ]
  },
  {
   "cell_type": "code",
   "execution_count": 11,
   "metadata": {},
   "outputs": [],
   "source": [
    "import math # importando uma biblioteta Python --> matemática funções\n",
    "# com um parametro opcional\n",
    "def Zpolar(z, deg = 0): # forma polar de um numero complexo\n",
    "    mod = math.sqrt(z.real**2 + z.imag**2)\n",
    "    ang = math.atan(z.imag/z.real) # angulo em radianos\n",
    "    if deg != 0: # parametro opcional em ação\n",
    "        ang *= 180/math.pi\n",
    "    return mod, ang"
   ]
  },
  {
   "cell_type": "code",
   "execution_count": 14,
   "metadata": {},
   "outputs": [
    {
     "name": "stdout",
     "output_type": "stream",
     "text": [
      "O módulo é 2.828427 e o angulo é 45.000000 graus\n"
     ]
    }
   ],
   "source": [
    "z1 = 2 + 2j\n",
    "z2 = Zpolar(z, 1)\n",
    "print(\"O módulo é %f e o angulo é %f graus\" %(z2[0], z2[1]))"
   ]
  },
  {
   "cell_type": "code",
   "execution_count": 20,
   "metadata": {},
   "outputs": [],
   "source": [
    "N = 18\n",
    "def primo(N):\n",
    "    #resp = true -- NÃO PRECISA DESTA VARIÁVEL\n",
    "    for d in range(2, N//2+1):\n",
    "        if (N % d) == 0:\n",
    "            return False\n",
    "    return True\n"
   ]
  },
  {
   "cell_type": "code",
   "execution_count": 27,
   "metadata": {},
   "outputs": [
    {
     "name": "stdout",
     "output_type": "stream",
     "text": [
      "False\n"
     ]
    },
    {
     "data": {
      "text/plain": [
       "True"
      ]
     },
     "execution_count": 27,
     "metadata": {},
     "output_type": "execute_result"
    }
   ],
   "source": [
    "print(primo(5100011451))\n",
    "primo(2)"
   ]
  },
  {
   "cell_type": "code",
   "execution_count": null,
   "metadata": {},
   "outputs": [],
   "source": []
  }
 ],
 "metadata": {
  "kernelspec": {
   "display_name": "Python 3",
   "language": "python",
   "name": "python3"
  },
  "language_info": {
   "codemirror_mode": {
    "name": "ipython",
    "version": 3
   },
   "file_extension": ".py",
   "mimetype": "text/x-python",
   "name": "python",
   "nbconvert_exporter": "python",
   "pygments_lexer": "ipython3",
   "version": "3.7.1"
  }
 },
 "nbformat": 4,
 "nbformat_minor": 2
}
