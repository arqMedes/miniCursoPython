{
 "cells": [
  {
   "cell_type": "markdown",
   "metadata": {},
   "source": [
    "# Array um tipo de lista de valores"
   ]
  },
  {
   "cell_type": "code",
   "execution_count": 2,
   "metadata": {},
   "outputs": [
    {
     "data": {
      "text/plain": [
       "45.0"
      ]
     },
     "execution_count": 2,
     "metadata": {},
     "output_type": "execute_result"
    }
   ],
   "source": [
    "import numpy as np\n",
    "z= 2 + 2j\n",
    "np.angle(z, deg=1)  #Dentro do Numpy existe diversas rotinas matemáticas"
   ]
  },
  {
   "cell_type": "code",
   "execution_count": 28,
   "metadata": {
    "scrolled": true
   },
   "outputs": [
    {
     "name": "stdout",
     "output_type": "stream",
     "text": [
      "A = [1 2 3]\n",
      "\n",
      "\n",
      "B = [[4 2 3]\n",
      " [1 5 6]]\n",
      "C=\n",
      " 1 2 3\n"
     ]
    }
   ],
   "source": [
    "A = np.array([1,2,3])\n",
    "print (\"A =\",A)\n",
    "print(\"\\n\")\n",
    "B = np.array([[4,2,3], [1,5,6]])\n",
    "print (\"B =\",B)\n",
    "C = np.array(\"1 2 3\")\n",
    "print('C=\\n', C)"
   ]
  },
  {
   "cell_type": "code",
   "execution_count": 33,
   "metadata": {
    "scrolled": false
   },
   "outputs": [
    {
     "name": "stdout",
     "output_type": "stream",
     "text": [
      "Dimensão da Matriz A --> 1\n",
      "Forma da Matriz A --> (3,)\n",
      "Dimensão da Matriz B = 2\n",
      "Forma da Matriz B eh   (2, 3)\n"
     ]
    }
   ],
   "source": [
    "type(A)\n",
    "#Número de dimensões do Array:\n",
    "print(\"Dimensão da Matriz A -->\", A.ndim) #A.ndim meio que me retorna o número de linhas  neste caso foi dimensão mas é isto\n",
    "print(\"Forma da Matriz A -->\", A.shape) #retorna a dimensão do array\n",
    "print(\"Dimensão da Matriz B = \", B.ndim)\n",
    "print(\"Forma da Matriz B eh  \", B.shape)\n"
   ]
  },
  {
   "cell_type": "code",
   "execution_count": 46,
   "metadata": {},
   "outputs": [
    {
     "name": "stdout",
     "output_type": "stream",
     "text": [
      "D= [[ 0  1  2]\n",
      " [ 3  4  5]\n",
      " [ 6  7  8]\n",
      " [ 9 10 11]\n",
      " [12 13 14]]\n",
      "\n",
      " E= [[0. 0. 0. 0. 0.]\n",
      " [0. 0. 0. 0. 0.]\n",
      " [0. 0. 0. 0. 0.]]\n",
      "\n",
      " F= [[9.  9.1 9.2 9.3 9.4]\n",
      " [9.5 9.6 9.7 9.8 9.9]]\n"
     ]
    }
   ],
   "source": [
    "D = np.arange(15).reshape(5,3)\n",
    "print('D=', D)\n",
    "E = np.zeros((3,5))\n",
    "print('\\n E=', E)\n",
    "F = np.arange(9,10,.1).reshape(2,5)\n",
    "print('\\n F=', F)"
   ]
  },
  {
   "cell_type": "markdown",
   "metadata": {},
   "source": [
    "# Operações com Matrizes"
   ]
  },
  {
   "cell_type": "code",
   "execution_count": 51,
   "metadata": {},
   "outputs": [
    {
     "name": "stdout",
     "output_type": "stream",
     "text": [
      "A transposta de C eh\n",
      " [[  2 -10   3]\n",
      " [ -9  18   0]]\n"
     ]
    }
   ],
   "source": [
    "A = np.matrix([[1,2,3], [-8, 9, 10]])\n",
    "B = np.matrix([[-1,12,0], [1, -9, 10]])\n",
    "C = A - B\n",
    "C.T\n",
    "print('A transposta de C eh\\n', C)"
   ]
  },
  {
   "cell_type": "code",
   "execution_count": 52,
   "metadata": {},
   "outputs": [
    {
     "data": {
      "text/plain": [
       "matrix([[ 0.30874317, -0.08306011],\n",
       "        [ 0.07103825,  0.02513661],\n",
       "        [ 0.18306011,  0.01092896]])"
      ]
     },
     "execution_count": 52,
     "metadata": {},
     "output_type": "execute_result"
    }
   ],
   "source": [
    "A.I"
   ]
  },
  {
   "cell_type": "code",
   "execution_count": 53,
   "metadata": {},
   "outputs": [],
   "source": [
    "X = np.matrix([],[])"
   ]
  },
  {
   "attachments": {
    "images.png": {
     "image/png": "[encoded data removed]"
    }
   },
   "cell_type": "markdown",
   "metadata": {},
   "source": [
    "# Exemplos de Aplicação com Matrizes:\n",
    "    Circuito elétrico com seguintes dados:\n",
    "        R = 2 ohm entre os nós 1 e 2; \n",
    "        R = 3 ohm entre os nós 2 e GND;\n",
    "        R = 5 ohm entre os nós GND ou 0 e 3;\n",
    "        Fonte 10V entre os nós 3 e 1;   -->> Corrente invertida de sentido\n",
    "        Sentido da corrente + --> -\n",
    "    \n",
    "    Nó 1: +i*r1 + i*r2 = 0;\n",
    "    Nó 2: -i*r2 + i*r3 = 0;\n",
    "    Nó 3: -i*r1 + i*r4 = 0;\n",
    "    \n",
    "    Este sistema de equações será representado por matrizes a seguir (matriz incidÊncia nó ramo):\n",
    "    [A]*{B} = {C}\n",
    "    \n",
    "    Índices: 1º -->>  Matriz = || a,b,c,d ||\n",
    "             2º                || e,f,g,h ||\n",
    "             3º                || i,j,l,m ||\n",
    "    \n",
    "    Matriz dos coeficientes:   Matriz das incógnitas:           Matriz das solução:\n",
    "    A =  || 1, 1,0,0 ||           B = | i*r1 |                     C = | 0 |\n",
    "         || 0,-1,1,0 ||               | i*r2 |                         | 0 |\n",
    "         ||-1,0,0, 1 ||               | i*r3 |                         | 0 |\n",
    "    \n",
    "  ![images.png](attachment:images.png)\n",
    "  Resolução Computacional:"
   ]
  },
  {
   "cell_type": "code",
   "execution_count": 1,
   "metadata": {},
   "outputs": [
    {
     "data": {
      "text/plain": [
       "array([[ 1.,  1.,  0.,  0.],\n",
       "       [ 0., -1.,  1.,  0.],\n",
       "       [-1.,  0.,  0.,  1.]])"
      ]
     },
     "execution_count": 1,
     "metadata": {},
     "output_type": "execute_result"
    }
   ],
   "source": [
    "import numpy as np\n",
    "# exemplo de aplicação Análise Nodal\n",
    "A = np.zeros((3,4))\n",
    "A[0,0] = A[0,1]= A[1,2] = A[2,3] = 1\n",
    "A[1,1]= A[2,0]= -1\n",
    "A"
   ]
  },
  {
   "cell_type": "code",
   "execution_count": 11,
   "metadata": {},
   "outputs": [
    {
     "data": {
      "text/plain": [
       "array([[10.],\n",
       "       [ 0.],\n",
       "       [ 0.],\n",
       "       [ 0.]])"
      ]
     },
     "execution_count": 11,
     "metadata": {},
     "output_type": "execute_result"
    }
   ],
   "source": [
    "# Vetor Fonte de Corrente de ramo\n",
    "Is = np.zeros((4,1)) # não tem fonte de corrente neste exemplo\n",
    "# Vetor Fonte de Tensão de ramo\n",
    "Vs = np.zeros((4,1))\n",
    "Vs[0,0] = 10\n",
    "Vs"
   ]
  },
  {
   "cell_type": "code",
   "execution_count": 12,
   "metadata": {},
   "outputs": [
    {
     "data": {
      "text/plain": [
       "array([[1.00000000e+10, 0.00000000e+00, 0.00000000e+00, 0.00000000e+00],\n",
       "       [0.00000000e+00, 5.00000000e-01, 0.00000000e+00, 0.00000000e+00],\n",
       "       [0.00000000e+00, 0.00000000e+00, 3.33333333e-01, 0.00000000e+00],\n",
       "       [0.00000000e+00, 0.00000000e+00, 0.00000000e+00, 2.00000000e-01]])"
      ]
     },
     "execution_count": 12,
     "metadata": {},
     "output_type": "execute_result"
    }
   ],
   "source": [
    "# Condutâncias de ramos\n",
    "G = np.zeros((4,4))\n",
    "G[0,0] = 1e10\n",
    "G[1,1]= 1./2\n",
    "G[2,2] = 1./3\n",
    "G[3,3] = 1./5\n",
    "G"
   ]
  },
  {
   "cell_type": "code",
   "execution_count": 13,
   "metadata": {},
   "outputs": [
    {
     "data": {
      "text/plain": [
       "matrix([[ 1.00000000e+10, -5.00000000e-01, -1.00000000e+10],\n",
       "        [-5.00000000e-01,  8.33333333e-01,  0.00000000e+00],\n",
       "        [-1.00000000e+10,  0.00000000e+00,  1.00000000e+10]])"
      ]
     },
     "execution_count": 13,
     "metadata": {},
     "output_type": "execute_result"
    }
   ],
   "source": [
    "Is = np.matrix(Is)\n",
    "Vs = np.matrix(Vs)\n",
    "G = np.matrix(G)\n",
    "A = np.matrix(A)\n",
    "Gbarra = A*G*A.T\n",
    "Gbarra"
   ]
  },
  {
   "cell_type": "code",
   "execution_count": 15,
   "metadata": {},
   "outputs": [
    {
     "data": {
      "text/plain": [
       "matrix([[ 5.00004482],\n",
       "        [ 3.00002245],\n",
       "        [-4.999956  ]])"
      ]
     },
     "execution_count": 15,
     "metadata": {},
     "output_type": "execute_result"
    }
   ],
   "source": [
    "E = Gbarra.I*A*(G*Vs-Is)\n",
    "E"
   ]
  },
  {
   "cell_type": "code",
   "execution_count": 16,
   "metadata": {},
   "outputs": [
    {
     "data": {
      "text/plain": [
       "matrix([[10.00000083],\n",
       "        [ 2.00002237],\n",
       "        [ 3.00002245],\n",
       "        [-4.999956  ]])"
      ]
     },
     "execution_count": 16,
     "metadata": {},
     "output_type": "execute_result"
    }
   ],
   "source": [
    "V = A.T*E\n",
    "V"
   ]
  },
  {
   "cell_type": "code",
   "execution_count": 17,
   "metadata": {},
   "outputs": [
    {
     "data": {
      "text/plain": [
       "matrix([[ 8.27403710e+03],\n",
       "        [ 1.00001118e+00],\n",
       "        [ 1.00000748e+00],\n",
       "        [-9.99991201e-01]])"
      ]
     },
     "execution_count": 17,
     "metadata": {},
     "output_type": "execute_result"
    }
   ],
   "source": [
    "I=Is+G*(V-Vs)\n",
    "I"
   ]
  },
  {
   "cell_type": "code",
   "execution_count": null,
   "metadata": {},
   "outputs": [],
   "source": []
  }
 ],
 "metadata": {
  "kernelspec": {
   "display_name": "Python 3",
   "language": "python",
   "name": "python3"
  },
  "language_info": {
   "codemirror_mode": {
    "name": "ipython",
    "version": 3
   },
   "file_extension": ".py",
   "mimetype": "text/x-python",
   "name": "python",
   "nbconvert_exporter": "python",
   "pygments_lexer": "ipython3",
   "version": "3.7.1"
  }
 },
 "nbformat": 4,
 "nbformat_minor": 2
}
