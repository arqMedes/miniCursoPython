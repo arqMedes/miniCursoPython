{
 "cells": [
  {
   "cell_type": "markdown",
   "metadata": {},
   "source": [
    "# Análise Nodal"
   ]
  },
  {
   "cell_type": "markdown",
   "metadata": {},
   "source": [
    "### Lendo as informações de Circuito a partir de um arquivo que mostra sua configuração topológica tipo GRAFO"
   ]
  },
  {
   "cell_type": "code",
   "execution_count": 15,
   "metadata": {},
   "outputs": [
    {
     "name": "stdout",
     "output_type": "stream",
     "text": [
      "['RAMO', 'NP', 'NC', 'TIPO', 'VALOR']\n",
      "1;1;0;I;2\n",
      "2;1;0;R;5\n",
      "3;1;2;R;2\n",
      "4;2;0;R;3\n"
     ]
    }
   ],
   "source": [
    "import numpy as np\n",
    "import csv\n",
    "\n",
    "file = open('dados/circuito.csv', newline='')\n",
    "reader = csv.reader(file)\n",
    "header = next(reader)\n",
    "chaves = header[0].split(';')\n",
    "print(chaves)\n",
    "\n",
    "for line in reader:\n",
    "    print(line[0])"
   ]
  },
  {
   "cell_type": "code",
   "execution_count": 3,
   "metadata": {},
   "outputs": [
    {
     "name": "stdout",
     "output_type": "stream",
     "text": [
      "['RAMO;NP;NC;TIPO;VALOR']\n"
     ]
    }
   ],
   "source": [
    "print(str(header))"
   ]
  },
  {
   "cell_type": "code",
   "execution_count": 4,
   "metadata": {},
   "outputs": [
    {
     "name": "stdout",
     "output_type": "stream",
     "text": [
      "('1;1;0;I;2',)\n",
      "('2;1;0;R;5',)\n",
      "('3;1;2;R;2',)\n",
      "('4;2;0;R;3',)\n"
     ]
    }
   ],
   "source": [
    "with open('dados/circuito.csv') as csvfile:\n",
    "   reader = csv.DictReader(csvfile)\n",
    "   for row in reader:\n",
    "       print(tuple(row.values()))"
   ]
  },
  {
   "cell_type": "code",
   "execution_count": 5,
   "metadata": {},
   "outputs": [
    {
     "name": "stdout",
     "output_type": "stream",
     "text": [
      "['RAMO;NP;NC;TIPO;VALOR']\n",
      "['1;1;0;I;2']\n",
      "['2;1;0;R;5']\n",
      "['3;1;2;R;2']\n",
      "['4;2;0;R;3']\n"
     ]
    }
   ],
   "source": [
    "import csv\n",
    "\n",
    "arquivo = open('dados/circuito.csv')\n",
    "\n",
    "linhas = csv.reader(arquivo)\n",
    "\n",
    "for linha in linhas:\n",
    "    print(linha)\n",
    "            "
   ]
  },
  {
   "cell_type": "code",
   "execution_count": 30,
   "metadata": {},
   "outputs": [
    {
     "name": "stdout",
     "output_type": "stream",
     "text": [
      " G : Condutâncias de Ramos \n",
      " [[1.00000000e-10 0.00000000e+00 0.00000000e+00 0.00000000e+00]\n",
      " [0.00000000e+00 2.00000000e-01 0.00000000e+00 0.00000000e+00]\n",
      " [0.00000000e+00 0.00000000e+00 5.00000000e-01 0.00000000e+00]\n",
      " [0.00000000e+00 0.00000000e+00 0.00000000e+00 3.33333333e-01]]\n",
      " Gbarra : Condutâncias de Nós \n",
      " [[ 0.7        -0.5       ]\n",
      " [-0.5         0.83333333]]\n",
      " E : Tensão Nodal \n",
      " [[5.]\n",
      " [3.]]\n",
      " V : Tensão em cada Ramo \n",
      " [[5.]\n",
      " [5.]\n",
      " [2.]\n",
      " [3.]]\n",
      " I : Corrente em cada Ramo \n",
      " [[-2.]\n",
      " [ 1.]\n",
      " [ 1.]\n",
      " [ 1.]]\n"
     ]
    }
   ],
   "source": [
    "import csv\n",
    "import numpy as np\n",
    "\n",
    "arquivo = open('dados/circuito.csv')\n",
    "\n",
    "dados = csv.DictReader(arquivo, delimiter =';')\n",
    "circuito = {}\n",
    "nos = [] # lista que tera elementos duplicados removidos\n",
    "\n",
    "for d in dados:\n",
    "    #print (d)\n",
    "    #print (d[\"RAMO\"] )\n",
    "    ramo = {}\n",
    "    ramo['NP'] = d['NP']\n",
    "    ramo['NC'] = d['NC']\n",
    "    ramo['TIPO'] = d['TIPO']\n",
    "    ramo['VALOR'] = d['VALOR']\n",
    "    ramo['TENSAO'] = 0\n",
    "    ramo['CORRENTE'] = 0\n",
    "    \n",
    "    nos.append(d['NP'])\n",
    "    nos.append(d['NC'])\n",
    "    \n",
    "    circuito[d['RAMO']] = ramo\n",
    "ramos = list(circuito.keys())\n",
    "nos = set(nos)\n",
    "nos = list(nos)\n",
    "\n",
    "# numero de Nós e Ramos do Circuito\n",
    "nN = len(nos) - 1 # O nó 0 é o GND\n",
    "nR = len(ramos)\n",
    "\n",
    "# A Matriz Transição Nós-Ramos\n",
    "A = np.zeros((nN, nR))\n",
    "# Is Vetor Fonte de Corrente de ramo\n",
    "Is = np.zeros((nR,1))\n",
    "# Vs Vetor Fonte de Tensão de ramo\n",
    "Vs = np.zeros((nR,1))\n",
    "# Condutâncias de ramos\n",
    "G = np.zeros((nR,nR))\n",
    "G[0,0] = 1e-10  # baixa condutância -- alta resistência\n",
    "G[1,1]= 1./5\n",
    "G[2,2]= 1./2\n",
    "G[3,3] = 1./3\n",
    "\n",
    "for r in ramos:\n",
    "    # Formação de A\n",
    "    vN = int(circuito[r]['NP'])\n",
    "    if vN > 0:\n",
    "        A[vN - 1, int(r) - 1] = 1\n",
    "    vN = int(circuito[r]['NC'])\n",
    "    if vN > 0:\n",
    "        A[vN - 1, int(r) - 1] = -1\n",
    "    # Tipo de Ramo\n",
    "    vR = int(r) - 1\n",
    "    tipo = circuito[r]['TIPO']\n",
    "    valor = float(circuito[r]['VALOR'])\n",
    "    if tipo == 'I':\n",
    "        Is[vR, 0] = valor\n",
    "        G[vR,vR] = 1e-10\n",
    "    elif tipo == 'V':\n",
    "        Vs[vR, 0] = valor\n",
    "        G[vR,vR] = 1e10\n",
    "    elif tipo == \"R\":\n",
    "        G[vR,vR] = 1./valor\n",
    "    elif tipo == \"G\":\n",
    "        G[vR,vR] = valor\n",
    "\n",
    "print(\" G : Condutâncias de Ramos \\n\", G)\n",
    "Is = np.matrix(Is)\n",
    "Vs = np.matrix(Vs)\n",
    "G = np.matrix(G)\n",
    "A = np.matrix(A)\n",
    "\n",
    "Gbarra = A*G*A.T\n",
    "print(\" Gbarra : Condutâncias de Nós \\n\", Gbarra)\n",
    "E = Gbarra.I*A*(G*Vs-Is)\n",
    "print(\" E : Tensão Nodal \\n\", E)\n",
    "V = A.T*E\n",
    "print(\" V : Tensão em cada Ramo \\n\", V)\n",
    "I=Is+G*(V-Vs)\n",
    "print(\" I : Corrente em cada Ramo \\n\", I)\n",
    "for i in range(nR):\n",
    "    circuito[str(i+1)]['TENSAO'] = float(V[i])\n",
    "    circuito[str(i+1)]['CORRENTE'] = float(I[i])\n"
   ]
  },
  {
   "cell_type": "code",
   "execution_count": 28,
   "metadata": {},
   "outputs": [
    {
     "data": {
      "text/plain": [
       "4"
      ]
     },
     "execution_count": 28,
     "metadata": {},
     "output_type": "execute_result"
    }
   ],
   "source": [
    "nR"
   ]
  },
  {
   "cell_type": "code",
   "execution_count": null,
   "metadata": {},
   "outputs": [],
   "source": []
  },
  {
   "cell_type": "code",
   "execution_count": 1,
   "metadata": {},
   "outputs": [],
   "source": [
    "import csv\n",
    "import numpy as np\n",
    "\n",
    "def grafoCircuito(nomeArq):\n",
    "    nomeArq = 'dados/' + nomeArq + '.csv'\n",
    "    arquivo = open(nomeArq)\n",
    "\n",
    "    dados = csv.DictReader(arquivo, delimiter =';')\n",
    "    circuito = {}\n",
    "\n",
    "\n",
    "    for d in dados:\n",
    "        #print (d)\n",
    "        #print (d[\"RAMO\"] )\n",
    "        ramo = {}\n",
    "        ramo['NP'] = d['NP']\n",
    "        ramo['NC'] = d['NC']\n",
    "        ramo['TIPO'] = d['TIPO']\n",
    "        ramo['VALOR'] = d['VALOR']\n",
    "        ramo['TENSAO'] = 0\n",
    "        ramo['CORRENTE'] = 0\n",
    "    \n",
    "        circuito[d['RAMO']] = ramo\n",
    "        \n",
    "    return circuito\n",
    "\n",
    "\n",
    "def matrizes(circuito):\n",
    "    ramos = list(circuito.keys())\n",
    "    nos = [circuito[k]['NP'] for k in circuito.keys() ]\n",
    "    nos += [circuito[k]['NC'] for k in circuito.keys() ]\n",
    "    nos = set(nos)\n",
    "    nos = list(nos)\n",
    "    # numero de Nós e Ramos do Circuito\n",
    "    nN = len(nos) - 1 # O nó 0 é o GND\n",
    "    nR = len(ramos)\n",
    "\n",
    "    # A Matriz Transição Nós-Ramos\n",
    "    A = np.zeros((nN, nR))\n",
    "    # Is Vetor Fonte de Corrente de ramo\n",
    "    Is = np.zeros((nR,1))\n",
    "    # Vs Vetor Fonte de Tensão de ramo\n",
    "    Vs = np.zeros((nR,1))\n",
    "    # Condutâncias de ramos\n",
    "    G = np.zeros((nR,nR))\n",
    "\n",
    "    for r in ramos:\n",
    "        # Formação de A\n",
    "        vN = int(circuito[r]['NP'])\n",
    "        if vN > 0:\n",
    "            A[vN - 1, int(r) - 1] = 1\n",
    "        vN = int(circuito[r]['NC'])\n",
    "        if vN > 0:\n",
    "            A[vN - 1, int(r) - 1] = -1\n",
    "        # Tipo de Ramo\n",
    "        vR = int(r) - 1\n",
    "        tipo = circuito[r]['TIPO']\n",
    "        valor = float(circuito[r]['VALOR'])\n",
    "        if tipo == 'I':\n",
    "            Is[vR, 0] = valor\n",
    "            G[vR,vR] = 1e-10\n",
    "        elif tipo == 'V':\n",
    "            Vs[vR, 0] = valor\n",
    "            G[vR,vR] = 1e10\n",
    "        elif tipo == \"R\":\n",
    "            G[vR,vR] = 1./valor\n",
    "        elif tipo == \"G\":\n",
    "            G[vR,vR] = valor\n",
    "\n",
    "    print(\" A : Matriz Incidência Nó-Ramo \\n\", A)\n",
    "    print(\" G : Condutâncias de Ramos \\n\", G)\n",
    "    Is = np.matrix(Is)\n",
    "    Vs = np.matrix(Vs)\n",
    "    G = np.matrix(G)\n",
    "    A = np.matrix(A)\n",
    "\n",
    "    Gbarra = A*G*A.T\n",
    "    print(\" Gbarra : Condutâncias de Nós \\n\", Gbarra)\n",
    "    Inodal = A*(G*Vs-Is)\n",
    "    print(\" Inodal : Fonte de Corrente no Nó \\n\", Inodal)\n",
    "    E = Gbarra.I*Inodal\n",
    "    print(\" E : Tensão Nodal \\n\", E)\n",
    "    V = A.T*E\n",
    "    print(\" V : Tensão em cada Ramo \\n\", V)\n",
    "    I=Is+G*(V-Vs)\n",
    "    print(\" I : Corrente em cada Ramo \\n\", I)\n",
    "    #for i in range(nR):\n",
    "    #    circuito[str(i+1)]['TENSAO'] = float(V[i])\n",
    "    #    circuito[str(i+1)]['CORRENTE'] = float(I[i])"
   ]
  },
  {
   "cell_type": "code",
   "execution_count": 2,
   "metadata": {},
   "outputs": [
    {
     "name": "stdout",
     "output_type": "stream",
     "text": [
      " A : Matriz Incidência Nó-Ramo \n",
      " [[ 1.  0.  1.]\n",
      " [-1.  1.  0.]]\n",
      " G : Condutâncias de Ramos \n",
      " [[5.00000000e-01 0.00000000e+00 0.00000000e+00]\n",
      " [0.00000000e+00 3.33333333e-01 0.00000000e+00]\n",
      " [0.00000000e+00 0.00000000e+00 1.00000000e+10]]\n",
      " Gbarra : Condutâncias de Nós \n",
      " [[ 1.00000000e+10 -5.00000000e-01]\n",
      " [-5.00000000e-01  8.33333333e-01]]\n",
      " Inodal : Fonte de Corrente no Nó \n",
      " [[1.e+11]\n",
      " [0.e+00]]\n",
      " E : Tensão Nodal \n",
      " [[10.]\n",
      " [ 6.]]\n",
      " V : Tensão em cada Ramo \n",
      " [[ 4.]\n",
      " [ 6.]\n",
      " [10.]]\n",
      " I : Corrente em cada Ramo \n",
      " [[ 2.        ]\n",
      " [ 2.        ]\n",
      " [-2.00000017]]\n"
     ]
    }
   ],
   "source": [
    "circ = grafoCircuito('divisor')\n",
    "matrizes(circ)"
   ]
  },
  {
   "cell_type": "code",
   "execution_count": 5,
   "metadata": {},
   "outputs": [
    {
     "name": "stdout",
     "output_type": "stream",
     "text": [
      " A : Matriz Incidência Nó-Ramo \n",
      " [[1. 1. 1.]]\n",
      " G : Condutâncias de Ramos \n",
      " [[5.00000000e-01 0.00000000e+00 0.00000000e+00]\n",
      " [0.00000000e+00 3.33333333e-01 0.00000000e+00]\n",
      " [0.00000000e+00 0.00000000e+00 1.00000000e-10]]\n",
      " Gbarra : Condutâncias de Nós \n",
      " [[0.83333333]]\n",
      " Inodal : Fonte de Corrente no Nó \n",
      " [[5.]]\n",
      " E : Tensão Nodal \n",
      " [[6.]]\n",
      " V : Tensão em cada Ramo \n",
      " [[6.]\n",
      " [6.]\n",
      " [6.]]\n",
      " I : Corrente em cada Ramo \n",
      " [[ 3.]\n",
      " [ 2.]\n",
      " [-5.]]\n"
     ]
    }
   ],
   "source": [
    "circ = grafoCircuito('divisorC')\n",
    "matrizes(circ)"
   ]
  },
  {
   "cell_type": "code",
   "execution_count": 32,
   "metadata": {},
   "outputs": [
    {
     "name": "stdout",
     "output_type": "stream",
     "text": [
      " G : Condutâncias de Ramos \n",
      " [[1.00000000e-10 0.00000000e+00 0.00000000e+00 0.00000000e+00]\n",
      " [0.00000000e+00 2.00000000e-01 0.00000000e+00 0.00000000e+00]\n",
      " [0.00000000e+00 0.00000000e+00 5.00000000e-01 0.00000000e+00]\n",
      " [0.00000000e+00 0.00000000e+00 0.00000000e+00 3.33333333e-01]]\n",
      " Gbarra : Condutâncias de Nós \n",
      " [[ 0.7        -0.5       ]\n",
      " [-0.5         0.83333333]]\n",
      " E : Tensão Nodal \n",
      " [[5.]\n",
      " [3.]]\n",
      " V : Tensão em cada Ramo \n",
      " [[5.]\n",
      " [5.]\n",
      " [2.]\n",
      " [3.]]\n",
      " I : Corrente em cada Ramo \n",
      " [[-2.]\n",
      " [ 1.]\n",
      " [ 1.]\n",
      " [ 1.]]\n"
     ]
    }
   ],
   "source": [
    "circ = grafoCircuito('circuito')\n",
    "matrizes(circ)"
   ]
  },
  {
   "cell_type": "code",
   "execution_count": 13,
   "metadata": {},
   "outputs": [
    {
     "data": {
      "text/plain": [
       "['1', '0', '2']"
      ]
     },
     "execution_count": 13,
     "metadata": {},
     "output_type": "execute_result"
    }
   ],
   "source": [
    "nos = []\n",
    "for k in circ.keys():\n",
    "    nos.append(circ[k]['NP'])\n",
    "    nos.append(circ[k]['NC'])\n",
    "nos = set(nos)\n",
    "nos = list(nos)\n",
    "nos"
   ]
  },
  {
   "cell_type": "code",
   "execution_count": 21,
   "metadata": {},
   "outputs": [
    {
     "data": {
      "text/plain": [
       "['1', '0', '2']"
      ]
     },
     "execution_count": 21,
     "metadata": {},
     "output_type": "execute_result"
    }
   ],
   "source": []
  },
  {
   "cell_type": "code",
   "execution_count": 15,
   "metadata": {},
   "outputs": [
    {
     "data": {
      "text/plain": [
       "['1', '1', '1', '2']"
      ]
     },
     "execution_count": 15,
     "metadata": {},
     "output_type": "execute_result"
    }
   ],
   "source": [
    "nos"
   ]
  },
  {
   "cell_type": "code",
   "execution_count": 10,
   "metadata": {},
   "outputs": [
    {
     "data": {
      "text/plain": [
       "'1'"
      ]
     },
     "execution_count": 10,
     "metadata": {},
     "output_type": "execute_result"
    }
   ],
   "source": [
    "circ['1']['NP']"
   ]
  },
  {
   "cell_type": "code",
   "execution_count": 37,
   "metadata": {},
   "outputs": [
    {
     "data": {
      "text/plain": [
       "{'1': {'NP': '1',\n",
       "  'NC': '0',\n",
       "  'TIPO': 'I',\n",
       "  'VALOR': '-2',\n",
       "  'TENSAO': 4.999999998750001,\n",
       "  'CORRENTE': -1.9999999995},\n",
       " '2': {'NP': '1',\n",
       "  'NC': '0',\n",
       "  'TIPO': 'R',\n",
       "  'VALOR': '5',\n",
       "  'TENSAO': 4.999999998750001,\n",
       "  'CORRENTE': 0.9999999997500002},\n",
       " '3': {'NP': '1',\n",
       "  'NC': '2',\n",
       "  'TIPO': 'R',\n",
       "  'VALOR': '2',\n",
       "  'TENSAO': 1.9999999995000004,\n",
       "  'CORRENTE': 0.9999999997500002},\n",
       " '4': {'NP': '2',\n",
       "  'NC': '0',\n",
       "  'TIPO': 'R',\n",
       "  'VALOR': '3',\n",
       "  'TENSAO': 2.9999999992500004,\n",
       "  'CORRENTE': 0.9999999997500001}}"
      ]
     },
     "execution_count": 37,
     "metadata": {},
     "output_type": "execute_result"
    }
   ],
   "source": [
    "circuito"
   ]
  },
  {
   "cell_type": "code",
   "execution_count": 45,
   "metadata": {},
   "outputs": [
    {
     "data": {
      "text/plain": [
       "{'1': {'NP': '1', 'NC': '0', 'TIPO': 'I', 'VALOR': '2'},\n",
       " '2': {'NP': '1', 'NC': '0', 'TIPO': 'R', 'VALOR': '5'},\n",
       " '3': {'NP': '1', 'NC': '2', 'TIPO': 'R', 'VALOR': '2'},\n",
       " '4': {'NP': '2', 'NC': '0', 'TIPO': 'R', 'VALOR': '3'}}"
      ]
     },
     "execution_count": 45,
     "metadata": {},
     "output_type": "execute_result"
    }
   ],
   "source": [
    "circuito"
   ]
  },
  {
   "cell_type": "code",
   "execution_count": 46,
   "metadata": {},
   "outputs": [
    {
     "data": {
      "text/plain": [
       "['1', '2', '3', '4']"
      ]
     },
     "execution_count": 46,
     "metadata": {},
     "output_type": "execute_result"
    }
   ],
   "source": [
    "\n",
    "ramos"
   ]
  },
  {
   "cell_type": "code",
   "execution_count": 47,
   "metadata": {},
   "outputs": [
    {
     "data": {
      "text/plain": [
       "['0', '1', '2']"
      ]
     },
     "execution_count": 47,
     "metadata": {},
     "output_type": "execute_result"
    }
   ],
   "source": [
    "\n",
    "nos"
   ]
  },
  {
   "cell_type": "code",
   "execution_count": 49,
   "metadata": {},
   "outputs": [
    {
     "data": {
      "text/plain": [
       "'1'"
      ]
     },
     "execution_count": 49,
     "metadata": {},
     "output_type": "execute_result"
    }
   ],
   "source": [
    "circuito['1']['NP']"
   ]
  },
  {
   "cell_type": "code",
   "execution_count": 11,
   "metadata": {},
   "outputs": [
    {
     "data": {
      "text/plain": [
       "0.8333333333333334"
      ]
     },
     "execution_count": 11,
     "metadata": {},
     "output_type": "execute_result"
    }
   ],
   "source": [
    "5/6"
   ]
  },
  {
   "cell_type": "code",
   "execution_count": null,
   "metadata": {},
   "outputs": [],
   "source": []
  }
 ],
 "metadata": {
  "kernelspec": {
   "display_name": "Python 3",
   "language": "python",
   "name": "python3"
  },
  "language_info": {
   "codemirror_mode": {
    "name": "ipython",
    "version": 3
   },
   "file_extension": ".py",
   "mimetype": "text/x-python",
   "name": "python",
   "nbconvert_exporter": "python",
   "pygments_lexer": "ipython3",
   "version": "3.7.1"
  }
 },
 "nbformat": 4,
 "nbformat_minor": 2
}
