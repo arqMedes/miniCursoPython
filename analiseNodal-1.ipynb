{
 "cells": [
  {
   "cell_type": "markdown",
   "metadata": {},
   "source": [
    "# Análise Nodal"
   ]
  },
  {
   "cell_type": "markdown",
   "metadata": {},
   "source": [
    "## Lendo as informações de Circuito de um arquivo onde mostra a configuração topológica GRAFO"
   ]
  },
  {
   "cell_type": "code",
   "execution_count": 5,
   "metadata": {},
   "outputs": [
    {
     "name": "stdout",
     "output_type": "stream",
     "text": [
      "RAMO;NP;NC;TIPO;VALOR\n",
      "1;1;0;I;2\n",
      "2;1;0;R;5\n",
      "3;1;2;R;2\n",
      "4;2;0;R;3\n"
     ]
    }
   ],
   "source": [
    "import numpy as np\n",
    "import csv\n",
    "\n",
    "file = open('dados/circuito.csv', newline='')\n",
    "reader = csv.reader(file)\n",
    "header = next(reader)\n",
    "print(header[0])\n",
    "\n",
    "for line in reader:\n",
    "    print(line[0])"
   ]
  },
  {
   "cell_type": "code",
   "execution_count": 8,
   "metadata": {},
   "outputs": [
    {
     "name": "stdout",
     "output_type": "stream",
     "text": [
      "['RAMO;NP;NC;TIPO;VALOR']\n"
     ]
    }
   ],
   "source": [
    "print(str(header))"
   ]
  },
  {
   "cell_type": "code",
   "execution_count": 15,
   "metadata": {},
   "outputs": [
    {
     "name": "stdout",
     "output_type": "stream",
     "text": [
      "('1;1;0;I;2',)\n",
      "('2;1;0;R;5',)\n",
      "('3;1;2;R;2',)\n",
      "('4;2;0;R;3',)\n"
     ]
    }
   ],
   "source": [
    "with open('dados/circuito.csv') as csvfile:\n",
    "   reader = csv.DictReader(csvfile)\n",
    "   for row in reader:\n",
    "       print(tuple(row.values()))"
   ]
  },
  {
   "cell_type": "code",
   "execution_count": 21,
   "metadata": {},
   "outputs": [
    {
     "name": "stdout",
     "output_type": "stream",
     "text": [
      "['RAMO', 'NP', 'NC', 'TIPO', 'VALOR']\n",
      "['1', '1', '0', 'I', '2']\n",
      "['2', '1', '0', 'R', '5']\n",
      "['3', '1', '2', 'R', '2']\n",
      "['4', '2', '0', 'R', '3']\n"
     ]
    }
   ],
   "source": [
    "import csv\n",
    "\n",
    "arquivo = open('dados/circuito.csv')\n",
    "\n",
    "linhas = csv.reader(arquivo)\n",
    "\n",
    "for linha in linhas:\n",
    "    print(linha)\n",
    "            "
   ]
  },
  {
   "cell_type": "code",
   "execution_count": 52,
   "metadata": {},
   "outputs": [
    {
     "data": {
      "text/plain": [
       "array([[ 1.,  1.,  1.,  0.],\n",
       "       [ 0.,  0., -1.,  1.]])"
      ]
     },
     "execution_count": 52,
     "metadata": {},
     "output_type": "execute_result"
    }
   ],
   "source": [
    "import csv\n",
    "\n",
    "arquivo = open('dados/circuito.csv')\n",
    "\n",
    "dados = csv.DictReader(arquivo)\n",
    "circuito = {}\n",
    "nos = [] # lista que tera elementos duplicados removidos\n",
    "\n",
    "for d in dados:\n",
    "    #print (d['RAMO'], d['NP'], d['NC'] )\n",
    "    ramo = {}\n",
    "    ramo['NP'] = d['NP']\n",
    "    ramo['NC'] = d['NC']\n",
    "    ramo['TIPO'] = d['TIPO']\n",
    "    ramo['VALOR'] = d['VALOR']\n",
    "    \n",
    "    nos.append(d['NP'])\n",
    "    nos.append(d['NC'])\n",
    "    \n",
    "    circuito[d['RAMO']] = ramo\n",
    "ramos = list(circuito.keys())\n",
    "nos = set(nos)\n",
    "nos = list(nos)\n",
    "\n",
    "# Determinação da Matriz Transição Nós-Ramos\n",
    "nN = len(nos) - 1 # O nó 0 é o GND\n",
    "nR = len(ramos)\n",
    "\n",
    "A = np.zeros((nN, nR))\n",
    "\n",
    "for r in ramos:\n",
    "    vN = int(circuito[r]['NP'])\n",
    "    if vN > 0:\n",
    "        A[vN - 1, int(r) - 1] = 1\n",
    "    vN = int(circuito[r]['NC'])\n",
    "    if vN > 0:\n",
    "        A[vN - 1, int(r) - 1] = -1\n",
    "A"
   ]
  },
  {
   "cell_type": "code",
   "execution_count": 45,
   "metadata": {},
   "outputs": [
    {
     "data": {
      "text/plain": [
       "{'1': {'NP': '1', 'NC': '0', 'TIPO': 'I', 'VALOR': '2'},\n",
       " '2': {'NP': '1', 'NC': '0', 'TIPO': 'R', 'VALOR': '5'},\n",
       " '3': {'NP': '1', 'NC': '2', 'TIPO': 'R', 'VALOR': '2'},\n",
       " '4': {'NP': '2', 'NC': '0', 'TIPO': 'R', 'VALOR': '3'}}"
      ]
     },
     "execution_count": 45,
     "metadata": {},
     "output_type": "execute_result"
    }
   ],
   "source": [
    "circuito"
   ]
  },
  {
   "cell_type": "code",
   "execution_count": 46,
   "metadata": {},
   "outputs": [
    {
     "data": {
      "text/plain": [
       "['1', '2', '3', '4']"
      ]
     },
     "execution_count": 46,
     "metadata": {},
     "output_type": "execute_result"
    }
   ],
   "source": [
    "\n",
    "ramos"
   ]
  },
  {
   "cell_type": "code",
   "execution_count": 47,
   "metadata": {},
   "outputs": [
    {
     "data": {
      "text/plain": [
       "['0', '1', '2']"
      ]
     },
     "execution_count": 47,
     "metadata": {},
     "output_type": "execute_result"
    }
   ],
   "source": [
    "\n",
    "nos"
   ]
  },
  {
   "cell_type": "code",
   "execution_count": 49,
   "metadata": {},
   "outputs": [
    {
     "data": {
      "text/plain": [
       "'1'"
      ]
     },
     "execution_count": 49,
     "metadata": {},
     "output_type": "execute_result"
    }
   ],
   "source": [
    "circuito['1']['NP']"
   ]
  },
  {
   "cell_type": "code",
   "execution_count": null,
   "metadata": {},
   "outputs": [],
   "source": []
  }
 ],
 "metadata": {
  "kernelspec": {
   "display_name": "Python 3",
   "language": "python",
   "name": "python3"
  },
  "language_info": {
   "codemirror_mode": {
    "name": "ipython",
    "version": 3
   },
   "file_extension": ".py",
   "mimetype": "text/x-python",
   "name": "python",
   "nbconvert_exporter": "python",
   "pygments_lexer": "ipython3",
   "version": "3.7.1"
  }
 },
 "nbformat": 4,
 "nbformat_minor": 2
}
