{
 "cells": [
  {
   "cell_type": "markdown",
   "metadata": {},
   "source": [
    "![](https://static.javatpoint.com/tutorial/numpy/images/numpy-tutorial.png)\n",
    "\n",
    "https://www.tutorialspoint.com/numpy/numpy_quick_guide.htm\n",
    "\n",
    "\n",
    "http://cs231n.github.io/python-numpy-tutorial/\n",
    "\n",
    "[Apostila](pdf/numpyAp.pdf)\n",
    "\n",
    "\n"
   ]
  },
  {
   "cell_type": "code",
   "execution_count": 22,
   "metadata": {},
   "outputs": [
    {
     "name": "stdout",
     "output_type": "stream",
     "text": [
      "45.0\n",
      "A=  [1 2 3]\n",
      "B=\n",
      " [[4 2 3]\n",
      " [1 5 8]]\n"
     ]
    }
   ],
   "source": [
    "import numpy as np\n",
    "\n",
    "z = 2 + 2j\n",
    "print(np.angle(z,deg=1)) # dentro do numpy exite diversos rotinas implementadas\n",
    "\n",
    "A = np.array([1,2,3]) \n",
    "print ('A= ', A)\n",
    "B = np.array([[4, 2, 3], [1, 5, 8]])\n",
    "print('B=\\n', B)\n"
   ]
  },
  {
   "cell_type": "code",
   "execution_count": 23,
   "metadata": {},
   "outputs": [
    {
     "name": "stdout",
     "output_type": "stream",
     "text": [
      "Dimensao de A eh 1 \n",
      " O Shape  de A eh  (3,)\n",
      "Dimensao de B eh 2 \n",
      " O Shape  de B eh  (2, 3)\n"
     ]
    }
   ],
   "source": [
    "# type(A)\n",
    "print(\"Dimensao de A eh %d \" %A.ndim)  # Numero de dimensoes do Array\n",
    "print (\" O Shape  de A eh \", A.shape)\n",
    "print(\"Dimensao de B eh %d \" %B.ndim)  \n",
    "print (\" O Shape  de B eh \", B.shape)\n",
    "\n"
   ]
  },
  {
   "cell_type": "code",
   "execution_count": 29,
   "metadata": {},
   "outputs": [
    {
     "name": "stdout",
     "output_type": "stream",
     "text": [
      "C=\n",
      " [[ 0  1  2]\n",
      " [ 3  4  5]\n",
      " [ 6  7  8]\n",
      " [ 9 10 11]\n",
      " [12 13 14]]\n",
      "D=\n",
      " [[0. 0. 0. 0. 0.]\n",
      " [0. 0. 0. 0. 0.]\n",
      " [0. 0. 0. 0. 0.]]\n",
      "E=\n",
      " [[9.  9.1 9.2 9.3 9.4]\n",
      " [9.5 9.6 9.7 9.8 9.9]]\n"
     ]
    }
   ],
   "source": [
    "C = np.arange(15).reshape(5, 3)\n",
    "print ('C=\\n', C)\n",
    "D = np.zeros((3, 5))\n",
    "print ('D=\\n', D)\n",
    "E = np.arange(9,10,.1).reshape(2, 5)\n",
    "print ('E=\\n', E)"
   ]
  },
  {
   "cell_type": "markdown",
   "metadata": {},
   "source": [
    "# Matrizes"
   ]
  },
  {
   "cell_type": "code",
   "execution_count": 40,
   "metadata": {},
   "outputs": [
    {
     "name": "stdout",
     "output_type": "stream",
     "text": [
      "A transposta de C eh\n",
      "  [[  2  -9]\n",
      " [-10  18]\n",
      " [  2   0]]\n"
     ]
    }
   ],
   "source": [
    "A = np.matrix([[1, 2, 2], [-8, 9, 10]])\n",
    "B = np.matrix([[-1, 12, 0], [1, -9, 10]])\n",
    "C =A - B\n",
    "print('A transposta de C eh\\n ',C.T)"
   ]
  },
  {
   "cell_type": "code",
   "execution_count": 41,
   "metadata": {},
   "outputs": [
    {
     "data": {
      "text/plain": [
       "matrix([[ 0.37164751, -0.07816092],\n",
       "        [ 0.16858238,  0.01609195],\n",
       "        [ 0.14559387,  0.02298851]])"
      ]
     },
     "execution_count": 41,
     "metadata": {},
     "output_type": "execute_result"
    }
   ],
   "source": [
    "A.I"
   ]
  },
  {
   "cell_type": "code",
   "execution_count": 44,
   "metadata": {},
   "outputs": [
    {
     "data": {
      "text/plain": [
       "matrix([[ 0.  ,  1.  ],\n",
       "        [ 0.25, -0.5 ]])"
      ]
     },
     "execution_count": 44,
     "metadata": {},
     "output_type": "execute_result"
    }
   ],
   "source": [
    "X = np.matrix([[2, 4],[1,0]])\n",
    "X.I"
   ]
  },
  {
   "cell_type": "markdown",
   "metadata": {},
   "source": [
    "# Aplicação Circuitos Elétricos"
   ]
  },
  {
   "cell_type": "code",
   "execution_count": 2,
   "metadata": {},
   "outputs": [
    {
     "data": {
      "text/plain": [
       "array([[ 1.,  1.,  0.,  0.],\n",
       "       [ 0., -1.,  1.,  0.],\n",
       "       [-1.,  0.,  0.,  1.]])"
      ]
     },
     "execution_count": 2,
     "metadata": {},
     "output_type": "execute_result"
    }
   ],
   "source": [
    "import numpy as np\n",
    "# exemplo de aplicação Análise Nodal\n",
    "A = np.zeros((3,4))\n",
    "A[0,0] = A[0,1]= A[1,2] = A[2,3] = 1\n",
    "A[1,1]= A[2,0]= -1\n",
    "A"
   ]
  },
  {
   "cell_type": "code",
   "execution_count": 3,
   "metadata": {},
   "outputs": [
    {
     "data": {
      "text/plain": [
       "array([[10.],\n",
       "       [ 0.],\n",
       "       [ 0.],\n",
       "       [ 0.]])"
      ]
     },
     "execution_count": 3,
     "metadata": {},
     "output_type": "execute_result"
    }
   ],
   "source": [
    "# Vetor Fonte de Corrente de ramo\n",
    "Is = np.zeros((4,1)) # não tem fonte de corrente neste exemplo\n",
    "# Vetor Fonte de Tensão de ramo\n",
    "Vs = np.zeros((4,1))\n",
    "Vs[0,0] = 10\n",
    "Vs"
   ]
  },
  {
   "cell_type": "code",
   "execution_count": 4,
   "metadata": {},
   "outputs": [
    {
     "data": {
      "text/plain": [
       "array([[1.00000000e+10, 0.00000000e+00, 0.00000000e+00, 0.00000000e+00],\n",
       "       [0.00000000e+00, 5.00000000e-01, 0.00000000e+00, 0.00000000e+00],\n",
       "       [0.00000000e+00, 0.00000000e+00, 3.33333333e-01, 0.00000000e+00],\n",
       "       [0.00000000e+00, 0.00000000e+00, 0.00000000e+00, 2.00000000e-01]])"
      ]
     },
     "execution_count": 4,
     "metadata": {},
     "output_type": "execute_result"
    }
   ],
   "source": [
    "# Condutâncias de ramos\n",
    "G = np.zeros((4,4))\n",
    "G[0,0] = 1e10\n",
    "G[1,1]= 1./2\n",
    "G[2,2] = 1./3\n",
    "G[3,3] = 1./5\n",
    "G"
   ]
  },
  {
   "cell_type": "code",
   "execution_count": 5,
   "metadata": {},
   "outputs": [
    {
     "data": {
      "text/plain": [
       "matrix([[ 1.00000000e+10, -5.00000000e-01, -1.00000000e+10],\n",
       "        [-5.00000000e-01,  8.33333333e-01,  0.00000000e+00],\n",
       "        [-1.00000000e+10,  0.00000000e+00,  1.00000000e+10]])"
      ]
     },
     "execution_count": 5,
     "metadata": {},
     "output_type": "execute_result"
    }
   ],
   "source": [
    "Is = np.matrix(Is)\n",
    "Vs = np.matrix(Vs)\n",
    "G = np.matrix(G)\n",
    "A = np.matrix(A)\n",
    "Gbarra = A*G*A.T\n",
    "Gbarra"
   ]
  },
  {
   "cell_type": "code",
   "execution_count": 6,
   "metadata": {},
   "outputs": [
    {
     "data": {
      "text/plain": [
       "matrix([[ 1.e+11],\n",
       "        [ 0.e+00],\n",
       "        [-1.e+11]])"
      ]
     },
     "execution_count": 6,
     "metadata": {},
     "output_type": "execute_result"
    }
   ],
   "source": [
    "Is_no = A*(G*Vs - Is)\n",
    "Is_no"
   ]
  },
  {
   "cell_type": "code",
   "execution_count": 8,
   "metadata": {},
   "outputs": [
    {
     "data": {
      "text/plain": [
       "matrix([[ 5.00003052],\n",
       "        [ 3.00003052],\n",
       "        [-4.99993896]])"
      ]
     },
     "execution_count": 8,
     "metadata": {},
     "output_type": "execute_result"
    }
   ],
   "source": [
    "E = Gbarra.I*Is_no\n",
    "#E = Gbarra.I*A*(G*Vs-Is)\n",
    "E"
   ]
  },
  {
   "cell_type": "code",
   "execution_count": 9,
   "metadata": {},
   "outputs": [
    {
     "data": {
      "text/plain": [
       "matrix([[ 9.99996948],\n",
       "        [ 2.        ],\n",
       "        [ 3.00003052],\n",
       "        [-4.99993896]])"
      ]
     },
     "execution_count": 9,
     "metadata": {},
     "output_type": "execute_result"
    }
   ],
   "source": [
    "V = A.T*E\n",
    "V"
   ]
  },
  {
   "cell_type": "code",
   "execution_count": 10,
   "metadata": {},
   "outputs": [
    {
     "data": {
      "text/plain": [
       "matrix([[-3.05175781e+05],\n",
       "        [ 1.00000000e+00],\n",
       "        [ 1.00001017e+00],\n",
       "        [-9.99987793e-01]])"
      ]
     },
     "execution_count": 10,
     "metadata": {},
     "output_type": "execute_result"
    }
   ],
   "source": [
    "I=Is+G*(V-Vs)\n",
    "I"
   ]
  },
  {
   "cell_type": "code",
   "execution_count": null,
   "metadata": {},
   "outputs": [],
   "source": []
  }
 ],
 "metadata": {
  "kernelspec": {
   "display_name": "Python 3",
   "language": "python",
   "name": "python3"
  },
  "language_info": {
   "codemirror_mode": {
    "name": "ipython",
    "version": 3
   },
   "file_extension": ".py",
   "mimetype": "text/x-python",
   "name": "python",
   "nbconvert_exporter": "python",
   "pygments_lexer": "ipython3",
   "version": "3.7.1"
  }
 },
 "nbformat": 4,
 "nbformat_minor": 2
}
