{
 "cells": [
  {
   "cell_type": "markdown",
   "metadata": {},
   "source": [
    "## Referência\n",
    "\n",
    "https://docs.python.org/3/tutorial\n",
    "\n",
    "https://rstudio-pubs-static.s3.amazonaws.com/325708_d9b07b07bf2b4bc8803ba6d53d834eeb.html\n",
    "\n",
    "http://cs231n.github.io/python-numpy-tutorial/\n",
    "\n"
   ]
  }
 ],
 "metadata": {
  "kernelspec": {
   "display_name": "Python 3",
   "language": "python",
   "name": "python3"
  },
  "language_info": {
   "codemirror_mode": {
    "name": "ipython",
    "version": 3
   },
   "file_extension": ".py",
   "mimetype": "text/x-python",
   "name": "python",
   "nbconvert_exporter": "python",
   "pygments_lexer": "ipython3",
   "version": "3.7.1"
  }
 },
 "nbformat": 4,
 "nbformat_minor": 2
}
