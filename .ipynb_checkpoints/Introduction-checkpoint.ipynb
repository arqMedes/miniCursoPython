{
 "cells": [
  {
   "cell_type": "markdown",
   "metadata": {},
   "source": [
    "1. Python como uma Calculadora\n",
    "    + Números (Inteiros, pontos flutuantes ...)\n",
    "    + Atribuição (variáveis, tipos...)\n",
    "    \n",
    "2. Comandos de Entrada e Saída\n",
    "\n",
    "Controle\n",
    "de Fluxos; Tipos Estruturados Sequenciais; Funções; Tipos Estruturados Não\n",
    "Sequenciais; Arquivos; Numpy e Matplotlib"
   ]
  },
  {
   "cell_type": "code",
   "execution_count": 7,
   "metadata": {},
   "outputs": [
    {
     "data": {
      "text/plain": [
       "25"
      ]
     },
     "execution_count": 7,
     "metadata": {},
     "output_type": "execute_result"
    }
   ],
   "source": [
    "#50 - 5*6 # () / 4\n",
    "#(50 - 5*6)/4 # / retorna um float\n",
    "17 // 3 # retorna o quociente inteiro da divisão\n",
    "17 % 3 # retorna o resto da divisão\n",
    "5**2"
   ]
  },
  {
   "cell_type": "code",
   "execution_count": null,
   "metadata": {},
   "outputs": [],
   "source": [
    "Conversão de Tipos:\n",
    "int: para inteiro\n",
    "float: para ponto flutuante\n",
    "bool: para booleano\n",
    "str: para string\n",
    "Operadores únicos:\n",
    "+: Operador numérico positivo\n",
    "-: Operador numérico negativo\n",
    "not: Operador lógico de negação\n",
    "Operadores Binários Aritméticos:\n",
    "+: Soma\n",
    "-: Subtração\n",
    "* : Produto\n",
    "/: Divisão de ponto flutuante\n",
    "//: Divisão inteira\n",
    "%: Resto da divisão inteira\n",
    "**: Potencialização\n",
    "Operadores Binários Lógicos:\n",
    "or: Disjunção lógica ou soma lógica\n",
    "and: Conjunção lógica ou produto lógico\n",
    "Operadores Binários Relacionais:\n",
    "==: Igual a\n",
    "!=: Diferente de\n",
    ">: Maior que\n",
    "<: Menor que\n",
    ">=: Maior ou igual\n",
    "<=: Menor ou igual"
   ]
  },
  {
   "cell_type": "markdown",
   "metadata": {},
   "source": [
    "# Comandos de Entrada e Saída\n"
   ]
  },
  {
   "cell_type": "code",
   "execution_count": null,
   "metadata": {},
   "outputs": [],
   "source": [
    "Comandos de saída padrão:\n",
    "print()\n",
    "Pula para a próxima linha\n",
    "print(expressão)\n",
    "Escreve o resultado da expressão\n",
    "Pula para a próxima linha\n",
    "print(expressão1,…,expressãoN)\n",
    "Escreve o resultado de cada expressão\n",
    "Espaço em branco é escrito entre cada par de expressão\n",
    "Pula para a próxima linha\n",
    "print(expressão,end=término)\n",
    "Escreve o resultado da expressão\n",
    "Ao final, escreve o String de término\n",
    "print(expressão1, …, expressãoN,end=término)\n",
    "Escreve o resultado de cada expressão\n",
    "Espaço em branco é escrito entre cada par de expressão\n",
    "Ao final, escreve o String de término\n",
    "Expressões Formatadas (operador %(…)):\n",
    "Sintaxe da expressão formatada:\n",
    "texto = “…%formato1 … %formatoN…” %(exp1, …, expN)\n",
    "Formatos mais comuns:\n",
    "d (inteiro), f (número com ponto flutuante) e s (String)\n",
    "Exemplos:\n",
    "\n",
    "msg = \" A media dos numeros é %4.2f\" %(8656656.6164134)\n",
    "print(msg)\n",
    "\n",
    "print(\"%f + %f = %4.1f\" %(15, 9.578421, 15+9.578421 ))\n",
    "\n",
    "print(\"%d + %d = %d\" %(5, 7.578421, 5+7.578421 ), end=\"!!!\")\n",
    "Comandos de entrada padrão:\n",
    "input()\n",
    "Comando que aguarda o usuário fornecer um valor expresso por uma sequencia de caracteres\n",
    "Este comando suspende a execução do programa até que o usuário escreva sua entrada e precione enter.\n",
    "input(mensagem)\n",
    "Comando que escreve a expressão mensagem e aguarda o usuário fornecer um valor expresso por uma sequencia de caracteres\n",
    "Este comando suspende a execução do programa até que o usuário escreva sua entrada e precione enter"
   ]
  },
  {
   "cell_type": "markdown",
   "metadata": {},
   "source": [
    "# Arquivos\n"
   ]
  },
  {
   "cell_type": "code",
   "execution_count": 2,
   "metadata": {},
   "outputs": [
    {
     "name": "stdout",
     "output_type": "stream",
     "text": [
      "Início do Programa\n",
      "Elemento 1 = 25\n",
      "Elemento 2 = 317\n",
      "Elemento 3 = 441\n",
      "Elemento 4 = 12\n",
      "Elemento 5 = 73\n",
      "Elemento 6 = 92\n",
      "\n",
      "Soma = 960\n",
      "Fim do Programa\n"
     ]
    }
   ],
   "source": [
    "print(\"Início do Programa\")\n",
    "Soma = 0\n",
    "Cont = 0\n",
    "arq = open(\"Inteiros.txt\", \"r\")\n",
    "S = arq.readline() \n",
    "while S != \"\":\n",
    "    N = int(S) # Converte o texto em int\n",
    "    Soma = Soma + N\n",
    "    Cont = Cont + 1\n",
    "    print(\"Elemento {0} = {1}\".format(Cont, N))\n",
    "    S = arq.readline() \n",
    "arq.close()\n",
    "print(\"\\nSoma = {0}\".format(Soma)) \n",
    "print(\"Fim do Programa\")\n",
    "    "
   ]
  },
  {
   "cell_type": "code",
   "execution_count": 3,
   "metadata": {},
   "outputs": [
    {
     "name": "stdout",
     "output_type": "stream",
     "text": [
      "Início do Programa\n",
      "Elemento 1 = 25\n",
      "Elemento 2 = 317\n",
      "Elemento 3 = 441\n",
      "Elemento 4 = 12\n",
      "Elemento 5 = 73\n",
      "Elemento 6 = 92\n",
      "\n",
      "Soma = 960\n",
      "Fim do Programa\n"
     ]
    }
   ],
   "source": [
    "# solução com iterador de arquivo -->> Pythonic\n",
    "print(\"Início do Programa\")\n",
    "Soma = 0\n",
    "Cont = 0\n",
    "\n",
    "for S in open(\"Inteiros.txt\") : # o parametro r é default\n",
    "    N = int(S) # Converte o texto em int\n",
    "    Soma = Soma + N\n",
    "    Cont = Cont + 1\n",
    "    print(\"Elemento {0} = {1}\".format(Cont, N))\n",
    "\n",
    "print(\"\\nSoma = {0}\".format(Soma)) \n",
    "print(\"Fim do Programa\")"
   ]
  },
  {
   "cell_type": "markdown",
   "metadata": {},
   "source": [
    "## Referência\n",
    "\n",
    "https://docs.python.org/3/tutorial\n",
    "\n",
    "https://rstudio-pubs-static.s3.amazonaws.com/325708_d9b07b07bf2b4bc8803ba6d53d834eeb.html\n",
    "\n",
    "http://cs231n.github.io/python-numpy-tutorial/\n",
    "\n"
   ]
  }
 ],
 "metadata": {
  "kernelspec": {
   "display_name": "Python 3",
   "language": "python",
   "name": "python3"
  },
  "language_info": {
   "codemirror_mode": {
    "name": "ipython",
    "version": 3
   },
   "file_extension": ".py",
   "mimetype": "text/x-python",
   "name": "python",
   "nbconvert_exporter": "python",
   "pygments_lexer": "ipython3",
   "version": "3.7.1"
  }
 },
 "nbformat": 4,
 "nbformat_minor": 2
}
